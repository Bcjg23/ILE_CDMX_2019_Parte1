{
 "cells": [
  {
   "cell_type": "markdown",
   "metadata": {},
   "source": []
  },
  {
   "cell_type": "raw",
   "metadata": {},
   "source": [
    "<script>\n",
    "function code_toggle() {\n",
    "    if (code_shown){\n",
    "      $('div.input').hide('500');\n",
    "      $('#toggleButton').val('Show Code')\n",
    "    } else {\n",
    "      $('div.input').show('500');\n",
    "      $('#toggleButton').val('Hide Code')\n",
    "    }\n",
    "    code_shown = !code_shown\n",
    "  }\n",
    "\n",
    "  $( document ).ready(function(){\n",
    "    code_shown=false;\n",
    "    $('div.input').hide()\n",
    "  });\n",
    "</script>\n",
    "<form action=\"javascript:code_toggle()\"><input type=\"submit\" id=\"toggleButton\" value=\"Show Code\"></form>\n"
   ]
  },
  {
   "cell_type": "code",
   "execution_count": null,
   "metadata": {},
   "outputs": [],
   "source": [
    "import pandas as pd\n",
    "import numpy as np\n",
    "import seaborn as sns\n",
    "import matplotlib.pyplot as plt\n",
    "import matplotlib.dates as dates\n",
    "import pandas_profiling\n",
    "#import xgboost as xgb\n",
    "import pickle\n",
    "\n",
    "from matplotlib.gridspec import GridSpec\n",
    "from datetime import datetime, date, time, timedelta\n",
    "from sklearn.datasets import make_classification\n",
    "from sklearn.preprocessing import StandardScaler, OneHotEncoder, KBinsDiscretizer, MinMaxScaler, QuantileTransformer\n",
    "from sklearn.impute import SimpleImputer\n",
    "from sklearn.compose import ColumnTransformer\n",
    "from sklearn.ensemble import RandomForestClassifier, GradientBoostingClassifier\n",
    "from sklearn.tree import DecisionTreeClassifier\n",
    "from sklearn.model_selection import TimeSeriesSplit #Para split temporal\n",
    "from sklearn.model_selection import GridSearchCV\n",
    "#from sklearn.model_selection import train_test_split\n",
    "from sklearn.metrics import accuracy_score, recall_score, precision_score, f1_score, confusion_matrix, auc, roc_curve"
   ]
  },
  {
   "cell_type": "code",
   "execution_count": null,
   "metadata": {},
   "outputs": [],
   "source": [
    "#import functions created in .py\n",
    "import load_data \n",
    "import clean_data\n",
    "import transform_data\n",
    "import eda\n",
    "import geda\n",
    "import feature_selection"
   ]
  },
  {
   "cell_type": "markdown",
   "metadata": {},
   "source": [
    "# 1. Introducción\n",
    "\n",
    "Este proyecto esta enfocado a predecir si una mujer es o no mayor a 23 años dado un conjunto de características presentado en una base de datos. \n",
    "\n",
    "La base de datos corresponde a las [*Interrupciones Legales de Embarazo*](https://datos.cdmx.gob.mx/explore/dataset/interrupcion-legal-del-embarazo) en la Ciudad de México. Esta base se obtuvo de la página de datos abiertos de la ciudad. \n",
    "\n",
    "Para contextualizar este proyecto, se consideran los siguientes supuestos:\n",
    "\n",
    "  - El resultado de este proyecto será utilizado por una institución gubernamental, por lo tanto, los recursos son finitos, en particular se tiene un presupuesto limitado.\n",
    "  - Se planea lanzar una campaña de servicios médicos para las mujeres que abortan. Se desea ofrecer servicios a bajo costo o gratuitos de salpingoclasia (esterilización permanente) y se quiere estimular a esta mujeres a participar en otros programas de bienestar social a los que pueden ser elegibles (por ejemplo, de madres solteras)"
   ]
  },
  {
   "cell_type": "markdown",
   "metadata": {},
   "source": [
    "## 1.1. Interrupción legal del embarazo en la Ciudad de México\n",
    "\n",
    "Es importante mencionar que la Interrupción del Embarazo solo era legal en la Ciudad de México, hasta hace unas pocas semanas, sin importar la causa o motivo. Pues si bien en otros estados también esta permitido, es sólo bajo ciertas circunstancias, principalmente relacionadas con delitos sexuales.\n",
    "\n",
    "La interrupción del embarazo es legal en la Ciudad de México hasta las 12 semanas de gestación. Actualmente existen 13 clínicas en la ciudad que otorgan este servicio. La página de información de la CDMX menciona que los servicios se **proporcionan de manera legal, segura, confidencial y gratuita**. \n",
    "\n",
    "Los requisitos oficiales para obtener el servicio son los siguientes.\n",
    "\n",
    "Requisitos para residentes de la Ciudad de México\n",
    "+ Identificación oficial, en original y copia.\n",
    "+ Comprobante de domicilio (último recibo de predial, luz, agua, gas, televisión de paga, teléfono fijo o servicio de internet), en original y copia.\n",
    "+ Hoja de Gratuidad. Una trabajadora social te ayudará en caso de no tenerla.\n",
    "+ Un acompañante con identificación oficial en original y copia.\n",
    "+ De manera opcional en los hospitales pueden solicitarte: CURP y/o acta de nacimiento.\n",
    "\n",
    "Requisitos para menores de edad:\n",
    "+ Acta de Nacimiento en original y copia.\n",
    "+ CURP (Puede imprimirse desde este sitio web)\n",
    "+ Credencial o documento con fotografía reciente (credencial de la escuela o certificado de estudios) en original y copia.\n",
    "+ Comprobante de domicilio en original y copia (último recibo de predial, luz, agua, gas, televisión de paga, teléfono fijo o servicio de internet).\n",
    "+ Acudir acompañada por madre, padre, tutor o representante legal con identificación oficial y comprobante de domicilio, ambos en original y copia.\n",
    "\n",
    "Requisitos para residentes de otros estados:\n",
    "+ Original y copia de identificación oficial.\n",
    "+ Comprobante de domicilio en original y copia.\n",
    "+ Un acompañante con identificación oficial en original y copia."
   ]
  },
  {
   "cell_type": "markdown",
   "metadata": {},
   "source": [
    "# 2. Preprocesamiento de la base"
   ]
  },
  {
   "cell_type": "code",
   "execution_count": null,
   "metadata": {},
   "outputs": [],
   "source": [
    "##################################################  CARGAR BASE  #############################################################\n",
    "#Update data file name\n",
    "datafile_name = 'interrupcion-legal-del-embarazo.csv'\n",
    "#Update path to data file\n",
    "\n",
    "#path_to_datafile = '~/Documents/Brenda/Proyecto/Data'\n",
    "path_to_datafile = '/home/bj/Documents/IntroDataScience/Proyecto/Data'\n",
    "#path_to_datafile ='C:/Users/GZARAZUA/Desktop/MCD/MINERIA DE DATOS/Reporte aborto'\n",
    "\n",
    "#we load the database\n",
    "interrupcion_legal = load_data.load_df(datafile_name, path_to_datafile, ';')"
   ]
  },
  {
   "cell_type": "markdown",
   "metadata": {},
   "source": [
    "## 2.1. Descripción de la base\n",
    "\n",
    "La base contiene información de interrupciones legales de embarazo de 2016 a 2019\n",
    "Observamos que las variables son en su mayoría numericas (conteos) y algunas categóricas, que se relacionan en lo general con lo siguiente:\n",
    "+ Fecha de registro: ano, mes, fingreso\n",
    "+ Sitio donde se atiende al paciente y datos relacionados a la intervención: cve_hospital, autoref, desc_derechohab, consejería, h_ingreso, desc_servicio, p_consent, procile, s_complica, panticoncept\n",
    "+ Características propias de la persona: edocivil, edad, nivel_edu, ocupacion, religion, parentezco, entidad, alc_o_municipio, menarca, fsexual, fmenstrua, sememb, nhijos, gesta, naborto, npartos, ncesarea, nile, anticonceptivo, c_num, motiles, p_semgest, p_diasgesta"
   ]
  },
  {
   "cell_type": "markdown",
   "metadata": {},
   "source": [
    "Esta base contiene información acerca de los procedimientos de interrupción legal del embarazo (ILE) que se realizaron en las clínicas y hospitales de la Secretaría de Salud de la Ciudad de México a partir de 2016.\n",
    "\n",
    "Diccionario de datos:\n",
    "+ ano: Año en que se realizó el procedimiento\n",
    "+ mes: Mes en que se realizó el procedimiento\n",
    "+ cve_hospital: Clave de la Unidad Médica donde se realizó el procedimiento\n",
    "+ fingreso: Fecha de Interrupción Legal del Embarazo\n",
    "+ autoref: Especificar si la paciente es referida de otra unidad o acude directamente\n",
    "+ edocivil_descripcion: Estado civil\n",
    "+ edad: Edad cumplida en años\n",
    "+ desc_derechohab: Especificar la institución que otorga la derechohabiencia\n",
    "+ nivel_edu: Último nivel escola acreditado\n",
    "+ ocupacion: Ocupación\n",
    "+ religion: Religión\n",
    "+ parentesco: Parentesco del responsable con la paciente\n",
    "+ entidad: Entidad de residencia\n",
    "+ alc_o_municipio: Delegación o municipio de residencia\n",
    "+ menarca: Edad de la primera menstruación\n",
    "+ fsexual: Edad de inicio de vida sexual activa\n",
    "+ fmenstrua: Fecha de la última menstruación\n",
    "+ sememb: Semanas de embarazo por fecha de última menstruación\n",
    "+ nhijos: Número de hijos\n",
    "+ gesta: Número de embarazos (Incluyendo abortos)\n",
    "+ naborto: Número de abortos\n",
    "+ npartos: Número de nacimientos por vía vaginal\n",
    "+ ncesarea: Número de cesáreas\n",
    "+ nile: Número de Interrupciones Legales del Embarazo previas\n",
    "+ consejeria: Especificar si la paciente recibió consejería sobre la ILE\n",
    "+ anticonceptivo: Especificar si la paciente utiliza de forma habitual método anticonceptivo\n",
    "+ c_num: Número de consultas\n",
    "+ motiles: Motivo por el cual se desea la interrupción del embarazo\n",
    "+ h_ingreso: En caso de hospitalización, fecha de ingreso\n",
    "+ desc_servicio: Servicio en el que se otorgó la interrupción\n",
    "+ p_semgest: Semanas de gestación por USG\n",
    "+ p_diasgesta: Días de gestación por USG\n",
    "+ p_consent: Se requisitó y firmo el consentimiento informado\n",
    "+ procile: Método utilizado para la interrupción legal\n",
    "+ s_complica: Se presentaron complicaciones por el procedimiento\n",
    "+ panticoncep: Método anticonceptivo proporcionado post evento obstétrico\n",
    "\n",
    "La variable target es la edad pasada a una variable binaria que indica si es o no mayor de 23 años (>= 23 años). Queremos predecir si dadas las características de la persona que llega a realizarse un aborto es mayor o igual a 23 años o no.\n",
    "\n",
    "Numericamente se observa que existen datos numericos y categóricos, así como algunas fechas que de inicio no se reconocen porque existen algunos errores que lo impiden"
   ]
  },
  {
   "cell_type": "code",
   "execution_count": null,
   "metadata": {},
   "outputs": [],
   "source": [
    "#We define a maximum number of columns to display\n",
    "pd.options.display.max_columns = 80\n",
    "# Datos originales de entrada\n",
    "#interrupcion_legal.head()"
   ]
  },
  {
   "cell_type": "code",
   "execution_count": null,
   "metadata": {},
   "outputs": [],
   "source": [
    "########################################  LIMPIAR NOMBRE VARIABLES  ######################################################\n",
    "# Estandarizacion de los nombres de las columnas\n",
    "clean_interrupcion_legal=clean_data.clean_variables_names(interrupcion_legal)\n"
   ]
  },
  {
   "cell_type": "code",
   "execution_count": null,
   "metadata": {},
   "outputs": [],
   "source": [
    "############################################## INFORMACION GENERAL ##################################################\n",
    "# Informacion general de la base\n",
    "#eda.df_variables_info(clean_interrupcion_legal)\n",
    "# Clasificación de las variables por tipo\n",
    "[numeric_variables, categorical_variables, dates_variables, string_variables] = eda.info_type_of_vars(clean_interrupcion_legal)\n",
    "# Imprime a pantalla las variables por tipo\n",
    "#eda.print_info_type_of_vars(numeric_variables, categorical_variables, dates_variables, string_variables)conf_mat.sum(1)"
   ]
  },
  {
   "cell_type": "code",
   "execution_count": null,
   "metadata": {},
   "outputs": [],
   "source": [
    "#######################################  LIMPIAMOS VALORES DE VARIABLES  ###############################################\n",
    "# Se observa que de las variables de tipo \"string\", 3 corresponden a variables tipo \"date\" que\n",
    "# no fueron reconocidas, a saber: fingreso, fmenstrua, h_fingreso\n",
    "\n",
    "# Primeramente estandarizaremos los valores del resto de las variables string\n",
    "clean_interrupcion_legal = transform_data.clean_variables_values(clean_interrupcion_legal, ['mes','autoref','edocivil_descripcion','desc_derechohab','nivel_edu','ocupacion','religion','parentesco','entidad','alc_o_municipio','consejeria','anticonceptivo','motiles','desc_servicio','p_consent','procile','s_complica','panticoncep'\n",
    "])\n",
    "#clean_interrupcion_legal.head(30)"
   ]
  },
  {
   "cell_type": "code",
   "execution_count": null,
   "metadata": {},
   "outputs": [],
   "source": [
    "#######################################  HACEMOS RECONOCER VARIABLES DE FECHA  ###########################################\n",
    "###### Correccion de \"fmenstrua\" a variable tipo \"date\"\n",
    "\n",
    "clean_interrupcion_legal['fmenstrua'] = pd.to_datetime(clean_interrupcion_legal['fmenstrua'])"
   ]
  },
  {
   "cell_type": "code",
   "execution_count": null,
   "metadata": {},
   "outputs": [],
   "source": [
    "###### Correccion de \"fingreso\" \n",
    "\n",
    "#Cambiamos np.nan a NA para que sea reconocida\n",
    "clean_interrupcion_legal['fingreso'] = clean_interrupcion_legal['fingreso'].replace(np.nan,\"NA\")\n",
    "# Separamos la fingreso en 3 columnas (año, mes, dia) usando '/' como token, para identificar posibles errores\n",
    "dividir = lambda x: pd.Series([i for i in x.split('/')])\n",
    "aux = clean_interrupcion_legal['fingreso'].apply(dividir)\n",
    "# Regresamos a los valores originales\n",
    "clean_interrupcion_legal['fingreso'] = clean_interrupcion_legal['fingreso'].replace(\"NA\", np.nan)\n"
   ]
  },
  {
   "cell_type": "code",
   "execution_count": null,
   "metadata": {},
   "outputs": [],
   "source": [
    "aux = pd.DataFrame(aux)\n",
    "aux.columns = ['dia','mes','ano']\n",
    "# Identificamos meses > 12, para checar que no haya errores\n",
    "mes_mayor_12 = aux[pd.to_numeric(aux['mes']) > 12]\n",
    "#print('Observaciones con mes mayor a 12: \\n', mes_mayor_12,'\\n')\n",
    "\n",
    "# Identificamos años menores a 2016 o mayores a 2019 -podrían indicar un error\n",
    "ano_menor_16_mayor_19 = aux[(pd.to_numeric(aux['ano'])<16) | (pd.to_numeric(aux['ano'])>19)]\n",
    "#print('Observaciones con año menor a 2016 o mayor a 2019: \\n', ano_menor_16_mayor_19)"
   ]
  },
  {
   "cell_type": "code",
   "execution_count": null,
   "metadata": {},
   "outputs": [],
   "source": [
    "# Obtenemos el indice de las observaciones con errores\n",
    "no_observ = mes_mayor_12.loc[mes_mayor_12['mes']=='0719'].index.values[0]\n",
    "# Corregimos los datos\n",
    "clean_interrupcion_legal['fingreso'].iloc[no_observ] = '17/07/19'\n",
    "# Checamos que los cambios esten en la base\n",
    "#clean_interrupcion_legal['fingreso'][no_observ]"
   ]
  },
  {
   "cell_type": "code",
   "execution_count": null,
   "metadata": {},
   "outputs": [],
   "source": [
    "#Se asjuta el año de la fecha 'fingreso' acorde a la variable 'ano' (se asume que el año difiere por ser un error)\n",
    "temp = ano_menor_16_mayor_19.index.values\n",
    "for i in range(0,len(temp)):\n",
    "    # Corregimos el dato\n",
    "    clean_interrupcion_legal['fingreso'].iloc[temp[i]] = ano_menor_16_mayor_19.iloc[i,0] + '/' + ano_menor_16_mayor_19.iloc[i,1] + '/' + str(clean_interrupcion_legal['ano'].iloc[temp[i]])[-2:]\n",
    "    #check the correction\n",
    "    #print(clean_interrupcion_legal['fingreso'][temp[i]])"
   ]
  },
  {
   "cell_type": "code",
   "execution_count": null,
   "metadata": {},
   "outputs": [],
   "source": [
    "#clean_interrupcion_legal[clean_interrupcion_legal['fingreso'].isna()==True]"
   ]
  },
  {
   "cell_type": "code",
   "execution_count": null,
   "metadata": {},
   "outputs": [],
   "source": [
    "# Finalmente cambiamos a tipo \"date\" la variable \"fingreso\"\n",
    "clean_interrupcion_legal['fingreso'] = pd.to_datetime(clean_interrupcion_legal['fingreso'])"
   ]
  },
  {
   "cell_type": "code",
   "execution_count": null,
   "metadata": {},
   "outputs": [],
   "source": [
    "# Volmenos a clasificar las variables por tipo para actualizar los cambios\n",
    "[numeric_variables, categorical_variables, dates_variables, string_variables] = eda.info_type_of_vars(clean_interrupcion_legal)\n",
    "# Imprimimos las variables por tipo\n",
    "# eda.print_info_type_of_vars(numeric_variables, categorical_variables, dates_variables, string_variables)"
   ]
  },
  {
   "cell_type": "markdown",
   "metadata": {},
   "source": [
    "## 2.2. Limpieza de datos\n",
    "\n",
    "Para cada variable se fueron haciendo algunas correcciones de lógica\n",
    "\n",
    "Para la mayoría de los casos no se cuenta con información sobre el centro de salud o persona que hizo referencia al centro de salud en el que se trata a la paciente\n",
    "\n",
    " Existen observaciones cn 'autorefereida' y 'autorreferida' que se asume como error ortografico\n",
    "\n",
    "\n",
    " De aquí en adelante, todas los valores definidos como N/E, no especificado, ect se definirán con la misma clave 'ne'\n",
    " clean_interrupcion_legal.loc[clean_interrupcion_legal['edocivil_descripcion']=='n/e', 'edocivil_descripcion']='ne'\n",
    "\n",
    "#Notamos que las categorías no son del todo claras, pues existen observaciones donde definen más\n",
    "#de un valor como imss/issste o imss/issste/gratuidad.\n",
    "#We note that the categories are not entirely clear, as there are observations where they define\n",
    "#more than one value as imss/issste or imss/issste/gratuity.\n",
    "\n",
    "#Corrección/observación entidad y alc_o_municipio...\n",
    "\n",
    "#En la base original existe un solo registro juan c. bonilla, que debería ser juan c bonilla\n",
    "#no obstante este problema quedó arreglado con la limpieza de los valores de las variables\n",
    "\n",
    "#Corrección/observación menarca...\n",
    "\n",
    "#Parece un error que aparezcan edades de 1,2,3,4,5,6,... años como edad de primera\n",
    "#menstruación. Estos valores se repiten varias veces aunque no dejan de ser poco representativos\n",
    "\n",
    "#Se podría considerar cambiar los valores de 1-6 por la mediana\n",
    "\n",
    "Tanto en 'menarca' como en 'fsexual' y 'fmenstrua' existen valores que parecen no hacer mucho sentido, debido a que son datos con valores numericos (que representan años) muy bajos, pues la primera menstruación y/o relación sexual a los 0,1,2,3,4,5 y 6 años pareciera tratarse de un error. No obstante estas observaciones aparentemente inconsistentes son relativamente mínimas\n",
    "#Se observa una fecha fmenstrua mayor a 2019, lo cual se asume como un error y se cambia por NA\n",
    "\n",
    "Corrección/observación sememb...\n",
    "\n",
    "#Se considera que el embarazo dura aprox. 40 semanas contadas a partir de la fecha de la\n",
    "#última menstruación, sin embargo en la base de datos hay algunos valores mayores a 40 (44,44.5,49,50)\n",
    "\n",
    "#Se puede sugerir cambiar los valores mayores a 40 por nan\n",
    "\n",
    "Para las variables 'nhijos', 'gesta', 'naborto', 'npartos', 'ncesarea', 'nile', 'consejería' no se considera que tengan errores y sus valores faltantes son relativamente poco representativos. Cabe señalar que la diferencia entre 'naborto' y 'nile' está en que la primera indica aborto dentro o fuera de la opción legal através de los centros de saludos indicados para ello (pudiese tratarse de un microaborto, aborto clandestino, aborto en otra institución de salud, etc). 'nile' indica no. de abortos en el presente programa\n",
    "\n",
    "h_ingreso...\n",
    "#Existen datos errorneos, pues hay fechas expresadas como entero aparentemente indicando numero de días transcurridos\n",
    "#Existen valores ne, para los cuales se debe tener cuidado si se pretende hacer operciones con esta variable\n",
    "\n",
    "desc_servicio, p_semgest, p_diasgesta, p_consent, procicle, s_complica, panticoncept...\n",
    "#no se encontraron anomalías con los valores de estas variables"
   ]
  },
  {
   "cell_type": "code",
   "execution_count": null,
   "metadata": {},
   "outputs": [],
   "source": [
    "#######################################  CORRECCIÓN DE ALGUNOS ERRORES  ###########################################\n",
    "# Corrección/observación autoref...\n",
    "\n",
    "# Existen observaciones con 'autorefereida' y 'autorreferida' que se asume como error ortografico\n",
    "clean_interrupcion_legal.loc[clean_interrupcion_legal['autoref']=='autoreferida', 'autoref']='autorreferida'"
   ]
  },
  {
   "cell_type": "code",
   "execution_count": null,
   "metadata": {},
   "outputs": [],
   "source": [
    "#Corrección/observación desc_derechohab...\n",
    "\n",
    "#clean_interrupcion_legal.loc[clean_interrupcion_legal['edocivil_descripcion']=='n/e', 'edocivil_descripcion']='ne'"
   ]
  },
  {
   "cell_type": "code",
   "execution_count": null,
   "metadata": {},
   "outputs": [],
   "source": [
    "#Corrección/observación fsexual y fmenstrua...\n",
    "\n",
    "#Se observa una fecha fmenstrua mayor a 2019, lo cual se asume como un error y se cambia por NA\n",
    "clean_interrupcion_legal.loc[clean_interrupcion_legal['fmenstrua'] > pd.Timestamp(date(2019,12,31)), 'fmenstrua']=pd.to_datetime(np.nan)"
   ]
  },
  {
   "cell_type": "markdown",
   "metadata": {},
   "source": [
    "## 2.3. Transformación de datos\n",
    "\n",
    "Es de señalar que la variable dummy/indicadora (y variable objetivo) de 23 años o más, divide al grupo de aplicantes casi a la mitad, pues como señalamos con anterioridad la moda se ubica en 24 años\n",
    "\n",
    "Con la finalidad de seguir haciendo hallazgos interesantes en la interacción de las diferentes variables, creamos algunas variables auxiliares, como la que categoriza los valores de 'edad'"
   ]
  },
  {
   "cell_type": "code",
   "execution_count": null,
   "metadata": {},
   "outputs": [],
   "source": [
    "####################################### TRANSFORMACION DE DATOS #####################################################\n",
    "############ Creamos la variable objetivo\n",
    "#Creamos la variable objetivo\n",
    "clean_interrupcion_legal['23_o_mayor'] = np.where(clean_interrupcion_legal['edad'] >= 23, 1, 0)\n",
    "#clean_interrupcion_legal.head()"
   ]
  },
  {
   "cell_type": "code",
   "execution_count": null,
   "metadata": {},
   "outputs": [],
   "source": [
    "########### Creamos la variable temporal \"ano_mes_ile\"\n",
    "##Concatenamos las variables ano y mes (convirtiendo mes a numero)\n",
    "mes_num = clean_interrupcion_legal['mes'].map(transform_data.month_string_to_number_string)\n",
    "clean_interrupcion_legal['ano_mes_ile'] = clean_interrupcion_legal['ano'].astype(str) + \"/\" + mes_num.astype(str)\n",
    "# Convertimos la variable a tipo \"date\"\n",
    "clean_interrupcion_legal['ano_mes_ile'] = pd.to_datetime(clean_interrupcion_legal['ano_mes_ile'])"
   ]
  },
  {
   "cell_type": "code",
   "execution_count": null,
   "metadata": {},
   "outputs": [],
   "source": [
    "########### Edad por quintiles\n",
    "clean_interrupcion_legal['edad_quintiles'] = pd.cut(clean_interrupcion_legal['edad'], bins=[0,4,9,14,19,24,29,34,39,44,49,54,59,100], labels=[\"0 a 4\", \"5 a 9\", \"10 a 14\", \"15 a 19\", \"20 a 24\", \"25 a 29\", \"30 a 34\", \"35 a 39\", \"40 a 44\", \"45 a 49\", \"50 a 54\", \"55 a 59\", \"60 y mas\"], right=True)"
   ]
  },
  {
   "cell_type": "code",
   "execution_count": null,
   "metadata": {},
   "outputs": [],
   "source": [
    "########### Recategorizacion de *estado_civil*\n",
    "dic_edo = {'soltera':'soltera', 'divorciada':'divorciada', 'union_libre':'union_libre', 'casada':'casada', 'separada':'separada', 'n/e': 'no_especificado', 'na':'no_especificado'}\n",
    "clean_interrupcion_legal['edo_civil'] = clean_interrupcion_legal['edocivil_descripcion'].map(dic_edo)"
   ]
  },
  {
   "cell_type": "code",
   "execution_count": null,
   "metadata": {},
   "outputs": [],
   "source": [
    "########### Recategorizacion de *nivel_educativo*\n",
    "dic_escol = { 'ninguno':'ninguno', 'preescolar':'ninguno', 'primaria_completa':'primaria', 'primaria_incompleta':'primaria',\n",
    "             'secundaria_incompleta':'secundaria', 'secundaria_completa':'secundaria', 'preparatoria_incompleta':'media_superior',\n",
    "             'preparatoria_completa':'media_superior', 'carrera_tecnica':'superior', 'licenciatura_incompleta':'superior','licenciatura_completa':'superior',\n",
    "             'maestria':'posgrado', 'doctorado':'posgrado', 'posgrado':'posgrado', 'posgrado_incompleto':'posgrado',\n",
    "             'no_especifica':'no_especificado', 'NA':'no_especificado', 'otra':'otra'}\n",
    "\n",
    "clean_interrupcion_legal['escolaridad'] = clean_interrupcion_legal['nivel_edu'].map(dic_escol)"
   ]
  },
  {
   "cell_type": "code",
   "execution_count": null,
   "metadata": {},
   "outputs": [],
   "source": [
    "########### Recategorizacion de *ocupacion*\n",
    "dic_ocup = {'abogada':'profesionista', 'administradora':'profesionista', 'ama_de_casa':'ama_de_casa', 'arquitecta':'profesionista',\n",
    "            'artista':'profesionista', 'asesora_financiera':'profesionista', 'asesora_juridica':'profesionista', 'auditora':'profesionista',\n",
    "            'bibliotecaria':'profesionista', 'cajera':'empleada', 'capturista':'empleada', 'chofer':'empleada', 'cientifica':'profesionista',\n",
    "            'cocinera':'empleada', 'comerciante':'empleada', 'constructora_o_elecetricista':'empleada', 'constructura_o_elecetricista':'empleada',\n",
    "            'contadora':'empleada', 'dentista':'profesionista', 'desempleada':'desempleada', 'diseñadora':'profesionista',\n",
    "            'ejecutiva':'profesionista', 'empleada':'empleada', 'enfermera':'profesionista', 'estilista':'empleada',\n",
    "            'estudiante':'estudiante', 'fisioterapeuta':'empleada', 'fotografa':'empleada', 'informatica_o_tecnologia':'profesionista',\n",
    "            'ingeniera':'profesionista', 'logistica_o_eventos':'empleada', 'mecanica':'profesionista', 'medico':'profesionista',\n",
    "            'mesera':'empleada', 'modelo':'empleada', 'na':'no_especificado', 'nutiologa':'profesionista', 'obrera':'empleada',\n",
    "            'paramedico':'empleada', 'periodista_o_publicista':'profesionista', 'policia_o_seguridad':'empleada',\n",
    "            'profesora_o_educadora':'profesionista', 'psicologa':'profesionista', 'recepcionista':'empleada', 'recursos_humanos':'empleada',\n",
    "            'secretaria':'empleada', 'telefonista':'empleada', 'textil':'empleada', 'trabajadora_de_campo':'empleada',\n",
    "            'trabajadora_del_hogar':'empleada', 'trabajadora_del_sector_publico':'empleada', 'trabajadora_sexual':'trabajadora_sexual',\n",
    "            'vetarinaria':'profesionista', 'voluntaria_o_trabajadora social':'empleada'}\n",
    "clean_interrupcion_legal['ocupacion2'] = clean_interrupcion_legal['ocupacion'].map(dic_ocup)"
   ]
  },
  {
   "cell_type": "code",
   "execution_count": null,
   "metadata": {},
   "outputs": [],
   "source": [
    "########### Recategorizacion de *anticonceptivo*\n",
    "dic_anti = { 'ninguno':'ninguno', 'na':'ninguno','condon':'condon', 'condon_y_otro':'otro',\n",
    "            'anillo_vaginal':'otro', 'anticoncepcion_de_emergencia':'otro', 'anticoncepcion_de_emergencia_y_otro':'otro',\n",
    "            'barrera':'otro', 'calendario':'otro', 'coito_interrumpido':'otro', 'diu':'otro', 'hormonal_inyectable':'otro',\n",
    "            'hormonal_oral':'otro', 'implante_subdermico':'otro', 'inyeccion':'otro', 'medicamento':'otro',\n",
    "            'parche_dermico':'otro', 'pastillas_anticonceptivas':'otro', 'ritmo':'otro', 'salpingoclacia':'otro',\n",
    "            'vasectomia':'otro'}\n",
    "clean_interrupcion_legal['anticonceptivo2'] = clean_interrupcion_legal['anticonceptivo'].map(dic_anti)"
   ]
  },
  {
   "cell_type": "code",
   "execution_count": null,
   "metadata": {},
   "outputs": [],
   "source": [
    "# Actualizamos las variables por tipo\n",
    "[numeric_variables, categorical_variables, dates_variables, string_variables] = eda.info_type_of_vars(clean_interrupcion_legal)\n",
    "# Imprime las variables por tipo\n",
    "#eda.print_info_type_of_vars(numeric_variables, categorical_variables, dates_variables, string_variables)"
   ]
  },
  {
   "cell_type": "markdown",
   "metadata": {},
   "source": [
    "# 3. Data profiling\n",
    "\n",
    "A continuación se muestra el dataprofiling de nuestras variables resultantes para una fácil identificación de estadísticos (mismos que en forma general ya fueron comentados arriba). \n",
    "Tambien se recomienda consultar el pandas profiling que este código genera"
   ]
  },
  {
   "cell_type": "code",
   "execution_count": null,
   "metadata": {},
   "outputs": [],
   "source": [
    "# Data profiling para variables numéricas\n",
    "eda.descriptive_stats_for_numeric_vars(clean_interrupcion_legal, numeric_variables)"
   ]
  },
  {
   "cell_type": "markdown",
   "metadata": {},
   "source": [
    "La siguiente table indica las estadísticas de la variable categóricas "
   ]
  },
  {
   "cell_type": "code",
   "execution_count": null,
   "metadata": {},
   "outputs": [],
   "source": [
    "# Data profiling para variables categoricas\n",
    "eda.descriptive_stats_for_categorical_vars(clean_interrupcion_legal, string_variables)"
   ]
  },
  {
   "cell_type": "code",
   "execution_count": null,
   "metadata": {},
   "outputs": [],
   "source": [
    "clean_interrupcion_legal.shape"
   ]
  },
  {
   "cell_type": "markdown",
   "metadata": {},
   "source": [
    "# 4. EDA\n",
    "\n",
    "La mayoría son mujeres solteras o en unión libre\n",
    "La mayoría de las aplicantes son jovenes de entre 20 y 30 años, inclusive el promedioo y moda son similares (25.7 y 24)\n",
    "'desc_derechohab' indica a qué servicio de salud está afiliada la paciente, no obstante hay valores que indican multiples opciones, lo cual hace un tanto confusa y quizá imprecisa esta variable\n",
    "Más del 70% de las mujeres tiene un nivel educativo inferior a estudios universitarios, mismas que en su mayoría tienen concluida la secundaria o prepa\n",
    "Un 40% de las mujeres dependen de una fuente externa de ingresos (amas de casa o estudiantes)\n",
    "La mayoría de las personas son de religión católica o dicen no tener alguna creencia en particular (lo cual suena congruente con la población del país)\n",
    "Esta variable tiene muchos faltantes, se podría asumir que es debido a que no tuvieron algún acompañante, porque sólo es obligatorio para menores de edad acorde a la pagina web. Entre los acompañantes más solicitados está la madre, la pareja y el esposo. No obstante lo anterior, se tiene que tomar en cuenta que para cualquier procedimiento médico que se aplique se pide un acompañante, por lo que los valores faltantes cobran importancia y restan importancia predictiva a la variable\n",
    "El 95% de las personas son de la zona metropolitana (principalmente de la CDMX). En cuanto a las alcaldías/municipio llama la atención que un 19% son o de la alcaldía Iztapalapa o Gustavo A Madero\n",
    "\n",
    "montiles' es una variable que indica los motivos por los que se realiza la interrupción del embarazo, lo cual sugiere que guarda un buen nivel predictivo para con nuestra variable objetivo, sin embargo la mayoría (97.4%) de los valores indican \"interrupción voluntaria\", lo que indica que no se reportó un motivo concreto útil\n",
    "\n",
    "Las variables asociadas al evento posintervención no fueron consideradas para el análsis, pues se considera que no aportan información útil además de que podrían sugerir data leaking\n",
    "\n",
    "\n",
    "EXPLICAR POR QUE SE HACE ANO-MES O USAR FINGRESO\n",
    "\n",
    "Para efectos de separar la base en \"entrenamiento\" y \"prueba\", se considerará la temporalidad de los datos, esto porque variables cmo 'nile' sugiere que podrían existir personas que reincidan en la practica de interrupción legal del embarazo\n",
    "\n",
    "Los estadísticos de 'edad_quintiles' dejan claro que la mayoría de las mujeres son jóvenes de entre 20 y 29 años\n"
   ]
  },
  {
   "cell_type": "code",
   "execution_count": null,
   "metadata": {},
   "outputs": [],
   "source": [
    "sns.set_style(\"darkgrid\")\n",
    "fig, ax = plt.subplots(figsize=(20,10))\n",
    "clean_interrupcion_legal.groupby(['ano_mes_ile']).count()['ano'].plot(ax=ax,color='darkblue', marker='o')\n",
    "\n",
    "plt.title('ILE por mes \\n (2016-2019)', fontsize='16')\n",
    "plt.xticks(fontsize='14')\n",
    "plt.yticks(fontsize='14')\n",
    "plt.show()"
   ]
  },
  {
   "cell_type": "code",
   "execution_count": null,
   "metadata": {},
   "outputs": [],
   "source": [
    "sns.set_style(\"darkgrid\")\n",
    "\n",
    "fig, ax = plt.subplots(figsize=(15,7))\n",
    "\n",
    "g = clean_interrupcion_legal.groupby(['ano_mes_ile', '23_o_mayor']).count()['mes'].unstack().plot(ax=ax, marker='o', color= ['gray', 'blue'])\n",
    "\n",
    "ax.xaxis.grid(True, which='minor')\n",
    "\n",
    "leg = g.axes.get_legend()\n",
    "leg.set_title('')\n",
    "new_labels=['Menores a 23 años', '23 años o más']\n",
    "for t, l in zip(leg.texts, new_labels): t.set_text(l)\n",
    "\n",
    "\n",
    "plt.ylabel(\"\")\n",
    "plt.xlabel(\"\")\n",
    "plt.title(\"Número de ILE por mes y rango de edad\\n (2016-2019)\")\n",
    "\n",
    "plt.show()"
   ]
  },
  {
   "cell_type": "code",
   "execution_count": null,
   "metadata": {},
   "outputs": [],
   "source": [
    "clean_interrupcion_legal.groupby(['ocupacion2', '23_o_mayor'])['mes'].count()"
   ]
  },
  {
   "cell_type": "code",
   "execution_count": null,
   "metadata": {},
   "outputs": [],
   "source": [
    "sns.set_style(\"darkgrid\")\n",
    "plt.figure(figsize = (20,10))\n",
    "#plt.style.use('ggplot')\n",
    "plot1 = sns.boxplot(y='edad', x='nhijos', data=clean_interrupcion_legal, palette='dark')\n",
    "sns.stripplot(y='edad', x='nile', data=clean_interrupcion_legal, color=\"gray\", jitter=0.2, size=2.5)\n",
    "# Linea horizontal\n",
    "plot1.axes.axhline(y = 23, ls='--', color='red')\n",
    "plot1.axes.text(-0.8, 22.7, \"23 años\", color = 'red', fontsize=12)\n",
    "\n",
    "plt.title('Distribución de la edad por número de ILE', fontsize='16')\n",
    "plt.xlabel('Número de Interrupciones Legales (ILE)', fontsize='14')\n",
    "plt.ylabel('Edad de la mujer', fontsize='14')\n",
    "\n",
    "plt.show()"
   ]
  },
  {
   "cell_type": "code",
   "execution_count": null,
   "metadata": {},
   "outputs": [],
   "source": [
    "tabla_pivote = pd.pivot_table(clean_interrupcion_legal, index='ocupacion2',  aggfunc='count')\n",
    "#tabla_pivote = tabla_pivote.reindex(['casada', 'union_libre', 'soltera', 'divorciada', 'separada','no_especificado'])\n",
    "tabla_pivote['edad']"
   ]
  },
  {
   "cell_type": "code",
   "execution_count": null,
   "metadata": {},
   "outputs": [],
   "source": [
    "ile_menor_23 = tabla_pivote['edad'][0]/sum(tabla_pivote['edad'][0])*100\n",
    "ile_mayor_23 = tabla_pivote['edad'][1]/sum(tabla_pivote['edad'][1])*100"
   ]
  },
  {
   "cell_type": "code",
   "execution_count": null,
   "metadata": {},
   "outputs": [],
   "source": [
    "df_aux = pd.DataFrame(tabla_pivote['edad'][0]/sum(tabla_pivote['edad'][0])*100)\n",
    "df_aux = pd.concat([df_aux, tabla_pivote['edad'][1]/sum(tabla_pivote['edad'][1])*100])\n",
    "df_aux['23_0_mas'] = [0,0,0,0,0,0,1,1,1,1,1,1]\n",
    "df_aux['edo_civil1'] = ['casada', 'union_libre', 'soltera', 'divorciada', 'separada','no_especificado', 'casada', 'union_libre', 'soltera', 'divorciada', 'separada','no_especificado']\n",
    "df_aux.columns = ['Porcentaje', '23_o_mayor', 'edo_civil1']\n",
    "df_aux.index = df_aux.reset_index(level=0, drop=True)\n",
    "df_aux.index = [0,1,2,3,4,5,6,7,8,9,10,11]\n",
    "g = sns.catplot(y=\"Porcentaje\", x='edo_civil1', hue='23_o_mayor', kind=\"bar\", data=df_aux, palette=['gray', 'blue'], height=6, aspect=1.3, legend_out=False)\n",
    "g.ax.set_yticks(np.arange(0,110,10), minor=True)\n",
    "\n",
    "leg = g.axes.flat[0].get_legend()\n",
    "leg.set_title('')\n",
    "new_labels=['Menores a 23 años', '23 años o más']\n",
    "for t, l in zip(leg.texts, new_labels): t.set_text(l)\n",
    "    \n",
    "plt.ylabel(\"\")\n",
    "plt.xlabel(\"\")\n",
    "plt.title(\"Porcentaje de mujeres que recibieron una ILE por Estado Civil\")\n",
    "\n",
    "\n",
    "plt.show()\n"
   ]
  },
  {
   "cell_type": "code",
   "execution_count": null,
   "metadata": {},
   "outputs": [],
   "source": [
    "tabla_pivote = pd.pivot_table(clean_interrupcion_legal, index='escolaridad', columns='23_o_mayor', aggfunc='count')\n",
    "tabla_pivote = tabla_pivote.reindex(['ninguno', 'primaria', 'secundaria', 'media_superior', 'superior','posgrado', 'otra', 'no_especificado'])\n",
    "tabla_pivote['edad']\n",
    "\n",
    "df_aux = pd.DataFrame(tabla_pivote['edad'][0]/sum(tabla_pivote['edad'][0])*100)\n",
    "df_aux = pd.concat([df_aux, tabla_pivote['edad'][1]/sum(tabla_pivote['edad'][1])*100])\n",
    "df_aux['23_0_mas'] = [0,0,0,0,0,0,0,0,1,1,1,1,1,1,1,1]\n",
    "df_aux.index = [0,1,2,3,4,5,6,7,8,9,10,11,12,13,14,15]\n",
    "df_aux['escolaridad1'] = ['ninguno', 'primaria', 'secundaria', 'media \\n superior', 'superior','posgrado', 'otra', 'no_especificado', 'ninguno', 'primaria', 'secundaria', 'media \\n superior', 'superior','posgrado', 'otra', 'no_especificado']\n",
    "df_aux.columns = ['Porcentaje', '23_o_mayor', 'escolaridad1']\n",
    "df_aux\n",
    "#\n",
    "g = sns.catplot(y=\"Porcentaje\", x='escolaridad1', hue='23_o_mayor', kind=\"bar\", data=df_aux, palette=['gray', 'blue'], height=6, aspect=1.3, legend_out=False)\n",
    "g.ax.set_yticks(np.arange(0,110,17), minor=True)\n",
    "\n",
    "leg = g.axes.flat[0].get_legend()\n",
    "leg.set_title('')\n",
    "new_labels=['Menores a 23 años', '23 años o más']\n",
    "for t, l in zip(leg.texts, new_labels): t.set_text(l)\n",
    "    \n",
    "plt.ylabel(\"\")\n",
    "plt.xlabel(\"\")\n",
    "plt.title(\"Porcentaje de mujeres que recibieron una ILE por Escolaridad\")\n",
    "plt.show()\n",
    "\n"
   ]
  },
  {
   "cell_type": "markdown",
   "metadata": {},
   "source": [
    "En la presente gráfica se observan diferencias entre las mujeres de 23 años o más y las de menos, acorde a estado civil, lo cual sugiere que el edo civil tiene "
   ]
  },
  {
   "cell_type": "code",
   "execution_count": null,
   "metadata": {},
   "outputs": [],
   "source": [
    "df_aux = clean_interrupcion_legal[clean_interrupcion_legal.edo_civil.isin(['casada', 'soltera','union_libre'])][['edo_civil', 'nile', 'nhijos', '23_o_mayor']]\n",
    "pd.pivot_table(df_aux, index=['edo_civil', 'nhijos'], columns='nile', aggfunc='count')\n",
    "#sns.lmplot( y=\"nile\", x=\"nhijos\", data=df_aux, fit_reg=False, hue='edo_civil', legend=True)"
   ]
  },
  {
   "cell_type": "code",
   "execution_count": null,
   "metadata": {},
   "outputs": [],
   "source": [
    "df_aux = clean_interrupcion_legal.groupby(['entidad', '23_o_mayor']).count()['mes'].unstack(level=1).reset_index().sort_values(by=1, ascending=False)\n",
    "df_aux[0]= df_aux[0]/sum(df_aux[0])*100\n",
    "df_aux[1]= df_aux[1]/sum(df_aux[1])*100\n",
    "df_aux.columns = ['entidad', 'menor', 'mayor']\n",
    "\n",
    "df_aux2 = df_aux[0:2]\n",
    "df_aux3 = df_aux[2:]\n",
    "df_aux2 = df_aux2.append(pd.Series(['otras_entidades',sum(df_aux3['menor']), sum(df_aux3['mayor'])], index=df_aux2.columns), ignore_index=True)\n",
    "\n",
    "#labels = df_aux2['entidad']\n",
    "labels = ['Ciudad \\n de México', 'Estado \\n de Mexico', 'Otras \\n entidades']\n",
    "x = np.arange(len(labels))  # the label locations\n",
    "width = 0.35  # the width of the bars\n",
    "\n",
    "\n",
    "\n",
    "fig = plt.figure(figsize=(20, 5))\n",
    "gs = GridSpec(nrows=1, ncols=5)\n",
    "\n",
    "ax1 = fig.add_subplot(gs[0,1])\n",
    "ax1.bar(x - width/2, df_aux2['menor'], width, color='gray', label='Menores de 23 años')\n",
    "ax1.bar(x + width/2, df_aux2['mayor'], width, color='blue', label='23 años o más')\n",
    "ax1.set_xticks(x)\n",
    "ax1.set_xticklabels(labels)\n",
    "ax1.set_yticks(np.arange(0,110,10), minor=True)\n",
    "ax1.set_title(\"Top de Entidad de Residencia\")\n",
    "ax1.legend(loc='upper right')\n",
    "\n",
    "ax2 = fig.add_subplot(gs[0,2:])\n",
    "my_size=np.where(df_aux3['mayor']>df_aux3['menor'], 75, 30)\n",
    "my_range = df_aux3['entidad']\n",
    "ax2.vlines(x = my_range, ymin=df_aux3['menor'], ymax=df_aux3['mayor'], color='black', alpha=0.4)\n",
    "ax2.axvline(x = 'queretaro', color='red', ls='--', linewidth=0.5)\n",
    "ax2.scatter(my_range, df_aux3['menor'], color='gray', s=my_size, alpha=1, label='Menores de 23 años')\n",
    "ax2.scatter(my_range, df_aux3['mayor'], color='blue', s=my_size, alpha=1 , label='23 años o más')\n",
    "ax2.set_xticks(np.arange(len(my_range)))\n",
    "ax2.set_xticklabels(my_range, rotation=90, horizontalalignment='right')\n",
    "ax2.set_title(\"Desglose de Otras entidades federativas\")\n",
    "ax2.legend(loc='upper right')\n",
    "\n",
    "fig.suptitle(\"Porcentaje de ILE segun la entidad donde residen\")\n",
    "#format_axes(fig)\n",
    "\n",
    "plt.show()"
   ]
  },
  {
   "cell_type": "code",
   "execution_count": null,
   "metadata": {},
   "outputs": [],
   "source": [
    "pd.options.display.float_format = '{:,}'.format\n",
    "pivot_aux = pd.pivot_table(clean_interrupcion_legal, index='escolaridad', columns='edo_civil', aggfunc='count')['mes']\n",
    "pivot_aux = pivot_aux.reindex(['posgrado', 'superior', 'media_superior', 'secundaria', 'primaria','otra', 'ninguno', 'no_especificado' ])\n",
    "pivot_aux = pivot_aux[['casada', 'union_libre', 'soltera', 'divorciada', 'separada','no_especificado']]\n",
    "pivot_aux\n",
    "#sns.heatmap(pivot_aux)\n",
    "#pd.pivot_table(clean_interrupcion_legal, index='escolaridad', columns=['23_o_mayor', 'edo_civil'], aggfunc='count')['mes']"
   ]
  },
  {
   "cell_type": "code",
   "execution_count": null,
   "metadata": {},
   "outputs": [],
   "source": [
    "clean_interrupcion_legal[clean_interrupcion_legal['escolaridad']=='no_especificado']"
   ]
  },
  {
   "cell_type": "code",
   "execution_count": null,
   "metadata": {},
   "outputs": [],
   "source": [
    "pivot_aux = pd.pivot_table(clean_interrupcion_legal, index='escolaridad', columns='ocupacion2', aggfunc='count')['mes']\n",
    "pivot_aux = pivot_aux.reindex(['posgrado', 'superior', 'media_superior', 'secundaria', 'primaria','otra', 'ninguno', 'no_especificado' ])\n",
    "pivot_aux "
   ]
  },
  {
   "cell_type": "code",
   "execution_count": null,
   "metadata": {},
   "outputs": [],
   "source": [
    "pivot_aux = pd.pivot_table(clean_interrupcion_legal, index='23_o_mayor', columns='escolaridad', aggfunc='count')['mes']\n",
    "#pivot_aux = pivot_aux.reindex(['casada', 'union_libre', 'soltera', 'divorciada', 'separada','no_especificado'])\n",
    "pivot_aux "
   ]
  },
  {
   "cell_type": "code",
   "execution_count": null,
   "metadata": {},
   "outputs": [],
   "source": [
    "####################################  PANDAS PROFILING  #########################################\n",
    "# #Imprime a pantalla\n",
    "# clean_interrupcion_legal.profile_report(correlations={\"cramers\": False})\n",
    "\n",
    "# #Imprime a archivo\n",
    "\n",
    "# profile = clean_interrupcion_legal.profile_report(title='Interrupcion legal del embarazo', plot={'histogram': {'bins': 8}}, correlations={\"cramers\": False})\n",
    "# profile.to_file(output_file=\"Interrupcion legal del embarazo_output.html\")"
   ]
  },
  {
   "cell_type": "code",
   "execution_count": null,
   "metadata": {},
   "outputs": [],
   "source": [
    "# #guardamos la base de datos resultante a un .csv\n",
    "# clean_interrupcion_legal.to_csv('clean_interrupcion_legal.csv', sep=';')"
   ]
  },
  {
   "cell_type": "code",
   "execution_count": null,
   "metadata": {},
   "outputs": [],
   "source": [
    "#geda.boxplot_all(clean_interrupcion_legal, numeric_variables)"
   ]
  },
  {
   "cell_type": "code",
   "execution_count": null,
   "metadata": {},
   "outputs": [],
   "source": [
    "sns.set_style(\"darkgrid\")\n",
    "sns.set_palette(\"dark\")\n",
    "geda.plot_by_pairs_grid(clean_interrupcion_legal, ['edad','naborto'])"
   ]
  },
  {
   "cell_type": "code",
   "execution_count": null,
   "metadata": {},
   "outputs": [],
   "source": [
    "geda.plot_by_pairs_grid(clean_interrupcion_legal, ['edad','nhijos'])"
   ]
  },
  {
   "cell_type": "code",
   "execution_count": null,
   "metadata": {},
   "outputs": [],
   "source": [
    "geda.plot_by_pairs_grid(clean_interrupcion_legal, ['edad','fsexual'])"
   ]
  },
  {
   "cell_type": "code",
   "execution_count": null,
   "metadata": {},
   "outputs": [],
   "source": [
    "geda.plot_bivariate_hist(clean_interrupcion_legal, 'edad', 'naborto')"
   ]
  },
  {
   "cell_type": "code",
   "execution_count": null,
   "metadata": {},
   "outputs": [],
   "source": [
    "geda.barplot_by_category(clean_interrupcion_legal, 'edad', 'ocupacion2')"
   ]
  },
  {
   "cell_type": "code",
   "execution_count": null,
   "metadata": {},
   "outputs": [],
   "source": [
    "geda.barplot_by_category(clean_interrupcion_legal, 'edad', 'ocupacion2')"
   ]
  },
  {
   "cell_type": "code",
   "execution_count": null,
   "metadata": {
    "scrolled": true
   },
   "outputs": [],
   "source": [
    "geda.barplot_by_category(clean_interrupcion_legal, 'edad', 'edocivil_descripcion')\n"
   ]
  },
  {
   "cell_type": "markdown",
   "metadata": {},
   "source": [
    "# Insights más importantes de este conjunto de datos"
   ]
  },
  {
   "cell_type": "markdown",
   "metadata": {},
   "source": [
    "+ La mayoría de mujeres poseen una educación máxima de media superior o secundaria, con estudios terminados o incompletos. La educación se podría considerar como un factor relevante en la toma de decisiones de las personas, que abarca la planeación a futuro\n",
    "\n",
    "+ Las mayoría de mujeres indicó ser solteras y de estas la mayoría son jóvenes. El hecho de tener algún compromiso para con una pareja o hijos pareciera otorgar mayor libertad para tomar una decisión sobre la interrupción del embarazo.\n",
    "\n",
    "+ Considerando que la base contiene la información de diversos años, y que existen mujeres que se han practicado más de un aborto, podría indicar que hay mujeres que hacen uso de la interrupción legal de embarazo varias veces. Esto podría sesgar las predicciones dado que podríamos tener el caso de registrar a una misma persona varias veces\n",
    "\n",
    "+ Las semanas/dias de gestación guardan una aparente fuerte correlación lineal positiva con la edad. Esto podría ser un indicativo del tiempo que se dan las personas para una toma de decisión, donde las personas más jovenes tienen a tomar la decisión en forma más temprana\n",
    "\n",
    "+ Dado que el objetivo planteado es predecir la edad de las mujeres dadas sus características, se han descartado algunas variables como las relacionadas a eventos posteriores a la intervención, cuya consideración podría incidir en hacer data leaking. Existen otras variables que aportan mucha información al prevalecer una categoría o valor como altamente representativo, como puede ser la religión. Existen variables que a primera vista podrían sugerir un alto nivel predictivo, como son motiles (motivos por los cuales se realiza la intervención) o parentesco (persona que acompaña a la paciente), sin embargo se detecta que las respuestas a estos concepto no son de mucha ayuda. En motile la mayoría indica tal cual interrupción voluntaria, lo cual no aporta nada). Aunque se sabe que para cualquier intervención se pide se vaya acompañada, la mayoría de las personas no reporta información sobre el parentesco del acompañante"
   ]
  },
  {
   "cell_type": "markdown",
   "metadata": {},
   "source": [
    "# 5. Selección de variables\n",
    "\n",
    "Algunas variables categoricas se recategorizaron para agrupar etiquetas similares y disminuir el número de categorias.\n",
    "\n",
    "Originalmente se tienen 36 variables, y aunque no es un gran número de variables en términos de los modelos de aprendizaje de máquina, es importante hacer la selección de variables para eliminar aquellas ue son espurias y que pudieran estar incorporando ruido al modelo y por lo tanto, disminuir su desempeño.\n",
    "\n",
    "En base al EDA se incluyeron 10 variables (edo_civil, escolaridad, ocupacion2, menarca, anticonceptivo2, nhijos, naborto, npartos, ncesarea, nile) para correr un modelo de Random Forest para determinar el nivel de importancia de las variables.\n",
    "\n",
    "Referencia [aqui](https://www.datacamp.com/community/tutorials/random-forests-classifier-python)\n",
    "\n",
    "\n",
    "## 5.1. Separacion de datos de *entrenamiento* y *prueba*\n",
    "\n",
    "La partición de la base en el conjunto de entrenamiento y de prueba, se realizo usando temporal cross validation, pues los eventos considerados (ILE) están intrínsicamente relacionados con el tiempo. Además, las características de la observaciones en la base, y de la población objetivo -mujeres de 23 años o más- en particular, son cambiantes a lo largo del tiempo.\n",
    "\n",
    "La muestra de entrenamiento se selecciono desde la fecha más antigua del primer registro (2016-01-01) hasta la fecha límite elegida, en este caso 2018-07-01. Así, la muestra de prueba fueron las observaciones a partir de 2018-08-01 y hasta la última fecha disponible en la base (2019-07-01).\n",
    "\n",
    "Esta fecha se eligio para tener al menos un año en la muestra de prueba, pensando que puede haber estacionalidad a lo largo de un año. Además, con esta fecha se obtiene que el 74% de los datos se encuentran en la muestra de entrenamiento y el restante en la muestra de prueba."
   ]
  },
  {
   "cell_type": "code",
   "execution_count": null,
   "metadata": {
    "scrolled": true
   },
   "outputs": [],
   "source": [
    "####################################### SELECCION DE VARIABLES SEGUN EDA #############################################\n",
    "base_interrupcion_legal = clean_interrupcion_legal[['ano_mes_ile', '23_o_mayor', 'edo_civil', 'escolaridad', 'ocupacion2', 'menarca', 'anticonceptivo2', 'nhijos', 'naborto', 'npartos', 'ncesarea', 'nile' ]].copy()\n",
    "\n",
    "#Ordenamos los datos conforme a la variable temporal\n",
    "base_interrupcion_legal.sort_values(by=['ano_mes_ile'], ascending=True)\n",
    "\n",
    "#base_interrupcion_legal"
   ]
  },
  {
   "cell_type": "code",
   "execution_count": null,
   "metadata": {},
   "outputs": [],
   "source": [
    "##################################### SEPARACION DE LA BASE EN \"PRUEBA\" Y \"ENTRENAMIENTO\" ###############################\n",
    "# Lo deje hasta julio de 2018 para tener un anio de prueba\n",
    "FECHA_DE_CORTE = '2018-07-01'\n",
    "mask = (base_interrupcion_legal['ano_mes_ile'] <= FECHA_DE_CORTE)\n",
    "entrenamiento = base_interrupcion_legal[mask]\n",
    "prueba = base_interrupcion_legal[~mask]\n",
    "print('No. observaciones en entre: ', entrenamiento.shape[0], ' que representa el ', round(entrenamiento.shape[0]/base_interrupcion_legal.shape[0]*100,0),'%')\n",
    "print('No. observaciones en prueb: ', prueba.shape[0], ' que representa el ', round(prueba.shape[0]/base_interrupcion_legal.shape[0]*100,0),'%')"
   ]
  },
  {
   "cell_type": "code",
   "execution_count": null,
   "metadata": {},
   "outputs": [],
   "source": [
    "y_entrenamiento = entrenamiento['23_o_mayor']\n",
    "x_entrenamiento = pd.DataFrame(entrenamiento.drop(['23_o_mayor', 'ano_mes_ile'], axis = 1))\n",
    "\n",
    "y_prueba = prueba['23_o_mayor']\n",
    "x_prueba = pd.DataFrame(prueba.drop(['23_o_mayor', 'ano_mes_ile'], axis = 1))"
   ]
  },
  {
   "cell_type": "code",
   "execution_count": null,
   "metadata": {},
   "outputs": [],
   "source": [
    "#eda.descriptive_stats_for_numeric_vars(x_entrenamiento, numeric_variables)\n",
    "#eda.descriptive_stats_for_categorical_vars(x_entrenamiento, string_variables)\n",
    "#x_entrenamiento['nile'].value_counts()\n",
    "#base_interrupcion_legal[\"naborto\"].value_counts()\n",
    "#x_entrenamiento.shape"
   ]
  },
  {
   "cell_type": "markdown",
   "metadata": {},
   "source": [
    "## 5.2. Imputacion de variables\n",
    "\n",
    "Se realizaron imputaciones a las siguientes variables de la muestra de entrenamiento:\n",
    "\n",
    "| Variable | % missings | Valor de imputación | Justificacion |\n",
    "|----------|------------|---------------------|---------------|\n",
    "| edo_civil | 0.32 | moda (soltera) | 55% de los datos corresponden a esa categoría |\n",
    "|escolaridad | 2.54 | moda (media_superior) | 45% de los datos corresponden a esa categoría |\n",
    "|menarca| 5.05 | moda (12 años) | %27 de los datos corresponden a esa categoría |\n",
    "|anticonceptivo|12.50|constante (ninguno)| 53% de los datos corresponden a esa categoría|\n",
    "|ocupacion| 15.91 | constante (no_especificado)| Nueva categoria para aislar el efecto de los valores faltantes|\n",
    "|nhijos| 5.32 | mediana | 40% de los datos corresponden a esa categoría y la media y la mediana de los datos es muy similar|\n",
    "|naborto| 6.47 | mediana |80% de los datos corresponden a esa categoría y la media y la mediana de los datos es muy similar|\n",
    "|nparto|6.16| mediana | 56% de los datos corresponden a esa categoría y la media y la mediana de los datos es muy similar|\n",
    "|ncesarrea|6.64| mediana | 70% de los datos corresponden a esa categoría y la media y la mediana de los datos es muy similar|\n",
    "|nile|26.4| mediana | 63% de los datos corresponden a esa categoría y la media y la mediana de los datos es muy similar|\n",
    "\n",
    ">> Porcentajes respecto a la muestra de entrenamiento"
   ]
  },
  {
   "cell_type": "code",
   "execution_count": null,
   "metadata": {},
   "outputs": [],
   "source": [
    "################################# IMPUTACION DE VARIABLES PARA \"ENTRENAMIENTO\" #########################################\n",
    "\n",
    "df = x_entrenamiento\n",
    "\n",
    "var = 'edo_civil'\n",
    "aux = df[[var]]\n",
    "aux_imputer_edo_civil = SimpleImputer(missing_values=np.nan, strategy=\"most_frequent\")\n",
    "aux_imputer_edo_civil.fit(aux)\n",
    "aux_imputed_edo_civil = aux_imputer_edo_civil.transform(aux)\n",
    "df[var] = aux_imputed_edo_civil\n",
    "\n",
    "var = 'escolaridad'\n",
    "aux = df[[var]]\n",
    "aux_imputer_escolaridad = SimpleImputer(missing_values=np.nan, strategy=\"most_frequent\")\n",
    "aux_imputer_escolaridad.fit(aux)\n",
    "aux_imputed_escolaridad = aux_imputer_escolaridad.transform(aux)\n",
    "df[var] = aux_imputed_escolaridad\n",
    "\n",
    "var = 'menarca'\n",
    "aux = df[[var]]\n",
    "aux_imputer_menarca = SimpleImputer(missing_values=np.nan, strategy=\"most_frequent\")\n",
    "aux_imputer_menarca.fit(aux)\n",
    "aux_imputed_menarca = aux_imputer_menarca.transform(aux)\n",
    "df[var] = aux_imputed_menarca\n",
    "\n",
    "\n",
    "var = 'anticonceptivo2'\n",
    "aux = df[[var]]\n",
    "aux_imputer_anticonceptivo2 = SimpleImputer(missing_values=np.nan, strategy=\"constant\", fill_value=\"ninguno\")\n",
    "aux_imputer_anticonceptivo2.fit(aux)\n",
    "aux_imputed_anticonceptivo2 = aux_imputer_anticonceptivo2.transform(aux)\n",
    "df[var]=aux_imputed_anticonceptivo2\n",
    "\n",
    "\n",
    "var = 'ocupacion2'\n",
    "aux = df[[var]]\n",
    "aux_imputer_ocupacion2 = SimpleImputer(missing_values=np.nan, strategy=\"constant\", fill_value=\"no_especificado\")\n",
    "aux_imputer_ocupacion2.fit(aux)\n",
    "aux_imputed_ocupacion2 = aux_imputer_ocupacion2.transform(aux)\n",
    "df[var]=aux_imputed_ocupacion2\n",
    "\n",
    "\n",
    "var = 'nhijos'\n",
    "aux = df[[var]]\n",
    "aux_imputer_nhijos = SimpleImputer(missing_values=np.nan, strategy=\"median\")\n",
    "aux_imputer_nhijos.fit(aux)\n",
    "aux_imputed_nhijos = aux_imputer_nhijos.transform(aux)\n",
    "df[var]=aux_imputed_nhijos\n",
    "\n",
    "var = 'naborto'\n",
    "aux = df[[var]]\n",
    "aux_imputer_naborto = SimpleImputer(missing_values=np.nan, strategy=\"median\")\n",
    "aux_imputer_naborto.fit(aux)\n",
    "aux_imputed_naborto = aux_imputer_naborto.transform(aux)\n",
    "df[var]=aux_imputed_naborto\n",
    "\n",
    "var = 'npartos'\n",
    "aux = df[[var]]\n",
    "aux_imputer_nparto = SimpleImputer(missing_values=np.nan, strategy=\"median\")\n",
    "aux_imputer_nparto.fit(aux)\n",
    "aux_imputed_nparto = aux_imputer_nparto.transform(aux)\n",
    "df[var]=aux_imputed_nparto\n",
    "\n",
    "var = 'ncesarea'\n",
    "aux = df[[var]]\n",
    "aux_imputer_ncesarea = SimpleImputer(missing_values=np.nan, strategy=\"median\")\n",
    "aux_imputer_ncesarea.fit(aux)\n",
    "aux_imputed_ncesarea = aux_imputer_ncesarea.transform(aux)\n",
    "df[var]=aux_imputed_ncesarea\n",
    "\n",
    "var = 'nile'\n",
    "aux = df[[var]]\n",
    "aux_imputer_nile = SimpleImputer(missing_values=np.nan, strategy=\"median\")\n",
    "aux_imputer_nile.fit(aux)\n",
    "aux_imputed_nile = aux_imputer_nile.transform(aux)\n",
    "df[var]=aux_imputed_nile\n",
    "\n"
   ]
  },
  {
   "cell_type": "code",
   "execution_count": null,
   "metadata": {},
   "outputs": [],
   "source": [
    "####### Checamos que, en efecto, no haya missings\n",
    "[numeric_variables, categorical_variables, dates_variables, string_variables] = eda.info_type_of_vars(x_entrenamiento)\n",
    "eda.descriptive_stats_for_numeric_vars(x_entrenamiento, numeric_variables)\n",
    "eda.descriptive_stats_for_categorical_vars(x_entrenamiento, string_variables)"
   ]
  },
  {
   "cell_type": "code",
   "execution_count": null,
   "metadata": {},
   "outputs": [],
   "source": [
    "######## One-hot encoder Para Entrenamiento\n",
    "dummies = feature_selection.transforma_cat_dummies(x_entrenamiento, string_variables, False)\n",
    "x_entrenamiento = pd.concat([x_entrenamiento, dummies], axis = 1)\n",
    "x_entrenamiento = x_entrenamiento.drop(string_variables, axis = 1)"
   ]
  },
  {
   "cell_type": "code",
   "execution_count": null,
   "metadata": {},
   "outputs": [],
   "source": [
    "#x_entrenamiento.head()"
   ]
  },
  {
   "cell_type": "markdown",
   "metadata": {},
   "source": [
    "## 5.3. Random forest  para selección de variables\n",
    "\n",
    "El Random Forest se corrio con 100, 1,000 y 10,000 árboles y se determino un threshold para la importancia, de 0.04\n",
    "\n",
    ". Se observo que,todos los casos tuvieron el mismo orden de relevancia para las variables.\n",
    "\n",
    "Nos quedamos con las siguientes variables:\n",
    "\n",
    "    - menarca\n",
    "    - nhijos\n",
    "    - ocupacion2_estudiante\n",
    "    - npartos\n",
    "    - escolaridad_superior\n",
    "    - ocupacion2_empleada\n",
    "    - ncesarea\n"
   ]
  },
  {
   "cell_type": "code",
   "execution_count": null,
   "metadata": {
    "scrolled": true
   },
   "outputs": [],
   "source": [
    "############################################# FEATURE ENGINEERING ####################################################\n",
    "\n",
    "N_ARBOLES = 10000  #The number of trees in the forest\n",
    "SEMILLA = 104 # the seed used by the random number generator\n",
    "\n",
    "#Create a Gaussian Classifier\n",
    "clf = RandomForestClassifier(n_estimators = N_ARBOLES, random_state = SEMILLA, n_jobs=-1)\n",
    "\n",
    "#Train the model using the training sets y_pred=clf.predict(X_test)\n",
    "clf.fit(x_entrenamiento, y_entrenamiento)\n",
    "\n",
    "RandomForestClassifier(bootstrap=True, class_weight=None, criterion='gini',\n",
    "            max_depth=None, max_features='auto', max_leaf_nodes=None,\n",
    "            min_impurity_decrease=0.0, min_impurity_split=None,\n",
    "            min_samples_leaf=1, min_samples_split=2,\n",
    "            min_weight_fraction_leaf=0.0, n_estimators=100, n_jobs=1,\n",
    "            oob_score=False, random_state=None, verbose=0,\n",
    "            warm_start=False)\n",
    "\n",
    "feature_imp = pd.Series(clf.feature_importances_, index=x_entrenamiento.columns).sort_values(ascending=False)"
   ]
  },
  {
   "cell_type": "code",
   "execution_count": null,
   "metadata": {},
   "outputs": [],
   "source": [
    "sns.set_style(\"darkgrid\")\n",
    "pp = sns.cubehelix_palette(30, start=.1, rot=-.75, reverse=True)\n",
    "fig = plt.figure(figsize=(8, 12))\n",
    "#Visualizing Important Features\n",
    "g = sns.barplot(x=feature_imp, y=feature_imp.index, palette=pp)\n",
    "# Add labels to your graph\n",
    "g.axes.axvline(x = 0.04, ls='--', color='red')\n",
    "plt.xlabel('Score')\n",
    "plt.ylabel('Variables')\n",
    "plt.title(\"Vizualizacion del score de importancia de las variables\")\n",
    "plt.show()\n"
   ]
  },
  {
   "cell_type": "code",
   "execution_count": null,
   "metadata": {},
   "outputs": [],
   "source": [
    "#################### SELECCION DE VARIABLES PARA LA MUESTRA DE ENTRENAMIENTO #########################################\n",
    "x_entrenamiento = x_entrenamiento[['menarca', 'nhijos', 'ocupacion2_estudiante', 'npartos', 'escolaridad_superior', 'ocupacion2_empleada', 'ncesarea']]\n",
    "\n",
    "# Salvamos la muestra de prueba\n",
    "x_entrenamiento.to_csv(\"Data/x_entrenamiento.csv\", index=False)"
   ]
  },
  {
   "cell_type": "markdown",
   "metadata": {},
   "source": [
    "# 6. Seleccion del Modelo \n",
    "\n",
    "El ajuste de los parámetros se hizo para tres modelos distintos: Decision Tree, Random Forest y XGBoost. \n",
    "\n",
    "Para cada conjunto de parámetros, el modelo uso *temporal cross validation* con *10 folds*.\n",
    "\n",
    "### Justificación de *temporal cross-validation*\n",
    "\n",
    "Se uso temporal cross-validation pues el evento, en este caso el aborto, sucede en el tiempo.\n",
    "\n",
    "### Métrica usada \n",
    "\n",
    "Dado que consideramos que el uso de este modelo podria ser usado para promover politicas publicas de salud, asumimos que los recursos son finitos y por tanto se busca optimizar los mismos reduciendo al maximo los falsos positivos\n",
    "\n",
    "Precison at k:\n",
    "Podemos considerar que se tienen recursos finitos, por ejemplo un presupuesto limite, por lo tanto solo se puede contratar k medicos para realizar los procedimientos o k trabajadoras sociales en educacion sexual. En el caso de se trabaje con voluntarios que no estan sujetos a una restriccion presupuestaria, podriamos tomar a k como los consultorios fisicos en los que se puede trabajar.\n",
    "\n",
    "## 6.1. Hiperparámetros del modelo (Magic Loop)\n",
    "\n",
    "Cada modelo se corrio considerando los siguientes rangos para los parámetros:}\n",
    "\n",
    "\n",
    "|Modelo| Parametros|# de modelos| Tiempo de ejecución (mins)| Mejor score |\n",
    "|:------|:-----------|------------|---------------------------|-------------|\n",
    "|Decision Tree| max_depth: [1,5,10,20,50,100,500,1000], |  3,200 |  1 | 0.82 |\n",
    "|             | min_samples_split: [2,5,10,20,50], | | | |\n",
    "|             | criterion:['gini', 'entropy'], | | | |\n",
    "|             | splitter:['random', 'best'], | | | |\n",
    "|             | presort:[False, True] | | | |\n",
    "|Random Forest| n_estimators: [100, 500, 1000, 5000], | 2,000| 83 | 0.83|\n",
    "|             | max_depth: [5,10,20,50,100], | | | |\n",
    "|             | max_features: ['sqrt','log2'], | | | |\n",
    "|             | min_samples_split: [2,5,10,20,50] | | | |\n",
    "|XGBoost| max_depth: [5,10,20,50,100], | 2,250 | 20| 0.83 |\n",
    "|       | *min_child_weight*: [2,5,10], | | | |\n",
    "|       | *learning_rate* : [0.01,0.05,0.1]   | | | |         \n",
    "|       | objective:['binary:logistic', 'binary:logitraw', 'binary:hinge'] | | | |\n",
    "\n",
    "\n",
    "'max_depth': [5,10,20,50,100],\n",
    "                    'n_estimators': [2,5,10,20,50],\n",
    "                    'min_samples_split': [2,5,10,20,50]\n",
    "                    'learning_rate':[0.01,0.05,0.1],\n",
    "                    'loss':['deviance', 'exponential]\n",
    "\n",
    "Probando 3 modelos diferentes con distinto hiperparametros, donde seleccionamos el mejor modelo con base en el score F1, que relaciona las metricas *precision* y *recall*.\n",
    "\n",
    "Lo anterior considerando que el uso de estos resultados podrá usarse para promover alguna politica pública de salud, donde los recursos son finitos e interesa seleccionar con precison a las personas objetivo.\n",
    "\n",
    "**Los modelos se corrieron en una Mac Pro con 23 MB en memoria y 8 cores.**\n",
    "\n",
    "A continuación se muestran los resultados de la métrica seleccionada para cada modelo.\n",
    "\n",
    "Referencia [aqui](https://medium.com/@dcamarena0229/time-series-split-with-scikit-learn-de7ec17d69cd)"
   ]
  },
  {
   "cell_type": "code",
   "execution_count": null,
   "metadata": {},
   "outputs": [],
   "source": [
    "########################################## TEMPORAL CROSS VALIDATION #################################################\n",
    "tscv = TimeSeriesSplit(n_splits=10)\n",
    "\n",
    "print(tscv)\n",
    "\n",
    "X = x_entrenamiento\n",
    "y = y_entrenamiento\n",
    "\n",
    "cv = [(train_index, test_index)\n",
    "      for train_index, test_index in tscv.split(X)]\n",
    "#    print(\"TRAIN:\", train_index, \"TEST:\", test_index)\n",
    "#    X_train, X_test = X.iloc[train_index, :], X.iloc[test_index,:]\n",
    "#    y_train, y_test = y.iloc[train_index], y.iloc[test_index]   "
   ]
  },
  {
   "cell_type": "code",
   "execution_count": null,
   "metadata": {},
   "outputs": [],
   "source": [
    "############################################### DECISION TREE ########################################################\n",
    "#ocuparemos un RF\n",
    "classifier = DecisionTreeClassifier()\n",
    "\n",
    "##separando en train, test\n",
    "#X_train, X_test, y_train, y_test = train_test_split(X, y)\n",
    "\n",
    "#definicion de los hiperparametros que queremos probar\n",
    "hyper_param_grid1 = {'max_depth': [1,5,10,20,50,100,500,1000], \n",
    "                     'min_samples_split': [2,5,10,20,50],\n",
    "                    'criterion':['gini', 'entropy'],\n",
    "                    'splitter':['random', 'best'],\n",
    "                    'presort':[False, True]}\n",
    "\n",
    "#ocupemos grid search!, el verbose permite hacer debugging ... el 3 nos permitirá ver los mensajes de 3 trials de los 10 \n",
    "grid_search_1 = GridSearchCV(classifier, \n",
    "                           hyper_param_grid1, \n",
    "                           scoring = 'f1',\n",
    "                           cv = cv, \n",
    "                           n_jobs = -1,\n",
    "                           verbose = 3)\n",
    "grid_search_1.fit(x_entrenamiento, y_entrenamiento)\n",
    "\n",
    "#de los valores posibles que pusimos en el grid, cuáles fueron los mejores\n",
    "grid_search_1.best_params_\n",
    "\n",
    "#mejor score asociado a los modelos generados con los diferentes hiperparametros\n",
    "#corresponde al promedio de los scores generados con los cv\n",
    "print('Valor de la mejor métrica para el modelo de Decision Tree:', grid_search_1.best_score_ * 100)"
   ]
  },
  {
   "cell_type": "code",
   "execution_count": null,
   "metadata": {},
   "outputs": [],
   "source": [
    "cv_results_arbol = pd.DataFrame(grid_search_1.cv_results_)\n",
    "cv_results_arbol.head()\n",
    "#\n",
    "cv_results_arbol.to_csv(\"Output/DecisionTree.csv\", index=False)"
   ]
  },
  {
   "cell_type": "code",
   "execution_count": null,
   "metadata": {},
   "outputs": [],
   "source": [
    "############################################### RANDOM FOREST ########################################################\n",
    "#ocuparemos un RF\n",
    "classifier = RandomForestClassifier()\n",
    "\n",
    "##separando en train, test\n",
    "#X_train, X_test, y_train, y_test = train_test_split(X, y)\n",
    "\n",
    "#definicion de los hiperparametros que queremos probar\n",
    "hyper_param_grid2 = {'n_estimators': [100, 500, 1000, 5000], \n",
    "                    'max_depth': [5,10,20,50,100], \n",
    "                    'max_features': ['sqrt','log2'],\n",
    "                    'min_samples_split': [2,5,10,20,50]}\n",
    "\n",
    "#ocupemos grid search!, el verbose permite hacer debugging ... el 3 nos permitirá ver los mensajes de 3 trials de los 10 \n",
    "grid_search_2 = GridSearchCV(classifier, \n",
    "                           hyper_param_grid2, \n",
    "                           scoring = 'f1',\n",
    "                           cv = cv, \n",
    "                           n_jobs = -1,\n",
    "                           verbose = 3)\n",
    "grid_search_2.fit(x_entrenamiento, y_entrenamiento)\n",
    "\n",
    "#de los valores posibles que pusimos en el grid, cuáles fueron los mejores\n",
    "grid_search_2.best_params_\n",
    "\n",
    "#mejor score asociado a los modelos generados con los diferentes hiperparametros\n",
    "#corresponde al promedio de los scores generados con los cv\n",
    "print('Valor de la mejor métrica para el modelo de Random Forest:', grid_search_2.best_score_ * 100)"
   ]
  },
  {
   "cell_type": "code",
   "execution_count": null,
   "metadata": {},
   "outputs": [],
   "source": [
    "cv_results_forest = pd.DataFrame(grid_search_2.cv_results_)\n",
    "cv_results_forest.head()\n",
    "#Save to file\n",
    "cv_results_forest.to_csv(\"Output/RandomForest.csv\", index=False)"
   ]
  },
  {
   "cell_type": "code",
   "execution_count": null,
   "metadata": {},
   "outputs": [],
   "source": [
    "############################################### XGBOOST ########################################################\n",
    "#ocuparemos un RF\n",
    "classifier = GradientBoostingClassifier()\n",
    "#classifier = xgb.XGBClassifier()\n",
    "\n",
    "##separando en train, test\n",
    "#X_train, X_test, y_train, y_test = train_test_split(X, y)\n",
    "\n",
    "#definicion de los hiperparametros que queremos probar\n",
    "hyper_param_grid3 = {'max_depth': [5,10,20,50,100],\n",
    "                    'n_estimators': [2,5,10,20,50],\n",
    "                    'min_samples_split': [2,5,10,20,50],\n",
    "                    'learning_rate':[0.01,0.05,0.1],\n",
    "                    'loss':['deviance', 'exponential']}\n",
    "\n",
    "#ocupemos grid search!, el verbose permite hacer debugging ... el 3 nos permitirá ver los mensajes de 3 trials de los 10 \n",
    "grid_search_3 = GridSearchCV(classifier, \n",
    "                           hyper_param_grid3, \n",
    "                           scoring = 'f1',\n",
    "                           cv = cv, \n",
    "                           n_jobs = -1,\n",
    "                           verbose = 3)\n",
    "grid_search_3.fit(x_entrenamiento, y_entrenamiento)\n",
    "\n",
    "#de los valores posibles que pusimos en el grid, cuáles fueron los mejores\n",
    "grid_search_3.best_params_\n",
    "\n",
    "#mejor score asociado a los modelos generados con los diferentes hiperparametros\n",
    "#corresponde al promedio de los scores generados con los cv\n",
    "print('Valor de la mejor métrica para el modelo de XGBoost:', grid_search_3.best_score_ * 100)"
   ]
  },
  {
   "cell_type": "code",
   "execution_count": null,
   "metadata": {},
   "outputs": [],
   "source": [
    "cv_results_XGBoost = pd.DataFrame(grid_search_3.cv_results_)\n",
    "cv_results_XGBoost.head()\n",
    "#\n",
    "cv_results_XGBoost.to_csv(\"Output/XGBoost.csv\", index=False)"
   ]
  },
  {
   "cell_type": "markdown",
   "metadata": {},
   "source": [
    "## 6.2. Selección del modelo y parámetros\n",
    "Comparando los resultados de todos los modelos considerados, tenemos que el modelo seleccionado debería ser un *XGBoost* con los siguientes parámetros"
   ]
  },
  {
   "cell_type": "code",
   "execution_count": null,
   "metadata": {},
   "outputs": [],
   "source": [
    "########################################### SELECCION DE MODELO Y PARAMETROS #########################################\n",
    "results_all = pd.concat([cv_results_forest, cv_results_arbol, cv_results_XGBoost], axis=0, sort='False').sort_values(by='rank_test_score', ascending=True).head()\n",
    "\n",
    "results_all.to_csv(\"Output/all_models.csv\", index=False)\n",
    "\n",
    "## mejor configuración de hiperparámetros de acuerdo a nuestra métrica\n",
    "results_all.iloc[0,:].params"
   ]
  },
  {
   "cell_type": "code",
   "execution_count": null,
   "metadata": {},
   "outputs": [],
   "source": [
    "#cv_results_forest\n",
    "#cv_results_arbol\n",
    "#cv_results_XGBoost"
   ]
  },
  {
   "cell_type": "markdown",
   "metadata": {},
   "source": [
    "# 7. Predicción en la muestra de prueba\n",
    "\n",
    "A continuación se presentas las métricas con la muestra de prueba"
   ]
  },
  {
   "cell_type": "code",
   "execution_count": null,
   "metadata": {},
   "outputs": [],
   "source": [
    "################################## PREDICCION EN LA MUESTRA DE PRUEBA ################################################\n",
    "######## Imputacion para base de prueba\n",
    "\n",
    "df = x_prueba\n",
    "\n",
    "var = 'edo_civil'\n",
    "aux = df[[var]]\n",
    "aux_imputed_edo_civil = aux_imputer_edo_civil.transform(aux)\n",
    "df[var] = aux_imputed_edo_civil\n",
    "\n",
    "var = 'escolaridad'\n",
    "aux = df[[var]]\n",
    "aux_imputed_escolaridad = aux_imputer_escolaridad.transform(aux)\n",
    "df[var] = aux_imputed_escolaridad\n",
    "\n",
    "var = 'menarca'\n",
    "aux = df[[var]]\n",
    "aux_imputed_menarca = aux_imputer_menarca.transform(aux)\n",
    "df[var] = aux_imputed_menarca\n",
    "\n",
    "var = 'anticonceptivo2'\n",
    "aux = df[[var]]\n",
    "aux_imputed_anticonceptivo2 = aux_imputer_anticonceptivo2.transform(aux)\n",
    "df[var]=aux_imputed_anticonceptivo2\n",
    "\n",
    "\n",
    "var = 'ocupacion2'\n",
    "aux = df[[var]]\n",
    "aux_imputed_ocupacion2 = aux_imputer_ocupacion2.transform(aux)\n",
    "df[var]=aux_imputed_ocupacion2\n",
    "\n",
    "var = 'nhijos'\n",
    "aux = df[[var]]\n",
    "aux_imputed_nhijos = aux_imputer_nhijos.transform(aux)\n",
    "df[var]=aux_imputed_nhijos\n",
    "\n",
    "var = 'naborto'\n",
    "aux = df[[var]]\n",
    "aux_imputed_naborto = aux_imputer_naborto.transform(aux)\n",
    "df[var]=aux_imputed_naborto\n",
    "\n",
    "var = 'npartos'\n",
    "aux = df[[var]]\n",
    "aux_imputed_nparto = aux_imputer_nparto.transform(aux)\n",
    "df[var]=aux_imputed_nparto\n",
    "\n",
    "var = 'ncesarea'\n",
    "aux = df[[var]]\n",
    "aux_imputed_ncesarea = aux_imputer_ncesarea.transform(aux)\n",
    "df[var]=aux_imputed_ncesarea\n",
    "\n",
    "var = 'nile'\n",
    "aux = df[[var]]\n",
    "aux_imputed_nile = aux_imputer_nile.transform(aux)\n",
    "df[var]=aux_imputed_nile\n",
    "\n"
   ]
  },
  {
   "cell_type": "code",
   "execution_count": null,
   "metadata": {},
   "outputs": [],
   "source": [
    "######## One -hot encoder Para Prueba\n",
    "dummies = feature_selection.transforma_cat_dummies(x_prueba, string_variables, False)\n",
    "x_prueba = pd.concat([x_prueba, dummies], axis = 1)\n",
    "x_prueba = x_prueba.drop(string_variables, axis = 1)\n"
   ]
  },
  {
   "cell_type": "code",
   "execution_count": null,
   "metadata": {},
   "outputs": [],
   "source": [
    "# Seleccion de variables para la muestra de \"prueba\"\n",
    "x_prueba = x_prueba[['menarca', 'nhijos', 'ocupacion2_estudiante', 'npartos', 'escolaridad_superior', 'ocupacion2_empleada', 'ncesarea']]"
   ]
  },
  {
   "cell_type": "code",
   "execution_count": null,
   "metadata": {},
   "outputs": [],
   "source": [
    "#x_prueba\n",
    "# Salvamos la muestra de prueba\n",
    "x_prueba.to_csv(\"Data/x_prueba.csv\", index=False)\n",
    "# Salvamos y_prueba\n",
    "y_prueba.to_csv(\"Data/y_prueba.csv\", index=False, header=['label_value'] )"
   ]
  },
  {
   "cell_type": "code",
   "execution_count": null,
   "metadata": {
    "scrolled": true
   },
   "outputs": [],
   "source": [
    "################################################# MODELO SELECCIONADO ##############################################\n",
    "# Tomado de (https://jessesw.com/XG-Boost/)\n",
    "\n",
    "# specify parameters via map\n",
    "#param_finales = {'learning_rate': 0.05, 'max_depth': 10, 'min_child_weight': 10, 'objective': 'binary:hinge'}\n",
    "\n",
    "\n",
    "best_model = GradientBoostingClassifier(max_depth=5, max_features='log2', min_samples_split=2, n_estimators=100)\n",
    "\n",
    "best_model.fit(x_entrenamiento, y_entrenamiento)\n",
    "\n",
    "#xgdmat = xgb.DMatrix(x_entrenamiento, y_entrenamiento)\n",
    "#best_model = xgb.train(param_finales, xgdmat, NUM_ROUNDS)\n"
   ]
  },
  {
   "cell_type": "code",
   "execution_count": null,
   "metadata": {},
   "outputs": [],
   "source": [
    "# Salvamos el modelo a disco\n",
    "filename = 'Model/final_model_ile.sav'\n",
    "pickle.dump(best_model, open(filename, 'wb'))"
   ]
  },
  {
   "cell_type": "code",
   "execution_count": null,
   "metadata": {},
   "outputs": [],
   "source": [
    "# we can then plot our feature importances using a built-in method. This is similar to the feature importances found in sklearn.\n",
    "best_model.feature_importances_\n",
    "#sns.set_style(\"darkgrid\")\n",
    "#xgb.plot_importance(best_model)"
   ]
  },
  {
   "cell_type": "code",
   "execution_count": null,
   "metadata": {},
   "outputs": [],
   "source": [
    "######################################## PREDICCION PARA LA MUESTRA DE \"PRUEBA\" #####################################\n",
    "y_predict = best_model.predict(x_prueba)\n",
    "#testdmat = xgb.DMatrix(x_prueba)\n",
    "#y_predict = best_model.predict(testdmat)\n",
    "y_predict"
   ]
  },
  {
   "cell_type": "code",
   "execution_count": null,
   "metadata": {},
   "outputs": [],
   "source": [
    "# Convertimos a etiquetas 0/1, SI ES NECESARIO\n",
    "#THRESHOLD = 0.5\n",
    "\n",
    "#y_predict[y_predict > THRESHOLD] = 1\n",
    "#y_predict[y_predict <= THRESHOLD] = 0\n",
    "#y_predict\n"
   ]
  },
  {
   "cell_type": "code",
   "execution_count": null,
   "metadata": {},
   "outputs": [],
   "source": [
    "########## Métricas\n",
    "print('Accuracy:', accuracy_score(y_predict, y_prueba))"
   ]
  },
  {
   "cell_type": "code",
   "execution_count": null,
   "metadata": {},
   "outputs": [],
   "source": [
    "print('Recall:', recall_score(y_prueba, y_predict, average='weighted'))"
   ]
  },
  {
   "cell_type": "code",
   "execution_count": null,
   "metadata": {},
   "outputs": [],
   "source": [
    "print('F1 score:', f1_score(y_prueba, y_predict, average='weighted'))"
   ]
  },
  {
   "cell_type": "code",
   "execution_count": null,
   "metadata": {},
   "outputs": [],
   "source": [
    "########### ROC curve\n",
    "fpr, tpr, thresholds = roc_curve(y_prueba, y_predict)\n",
    "roc_auc = auc(fpr, tpr)"
   ]
  },
  {
   "cell_type": "code",
   "execution_count": null,
   "metadata": {},
   "outputs": [],
   "source": [
    "sns.set_style(\"darkgrid\")\n",
    "plt.figure()\n",
    "lw = 2\n",
    "plt.plot(fpr, tpr, color='darkorange', lw=lw, label='ROC curve (area = %0.2f)' % roc_auc)\n",
    "plt.plot([0, 1], [0, 1], color='navy', lw=lw, linestyle='--')\n",
    "plt.xlim([-0.02, 1.0])\n",
    "plt.ylim([0.0, 1.02])\n",
    "plt.xlabel('False Positive Rate')\n",
    "plt.ylabel('True Positive Rate')\n",
    "plt.title('ROC curve')\n",
    "plt.legend(loc=\"lower right\")\n",
    "plt.show()"
   ]
  },
  {
   "cell_type": "code",
   "execution_count": null,
   "metadata": {},
   "outputs": [],
   "source": [
    "########### Confusion matrix\n",
    "conf_mat = pd.DataFrame(confusion_matrix(y_prueba, y_predict))\n",
    "conf_mat = conf_mat[conf_mat.columns[::-1]].iloc[::-1]\n",
    "print(conf_mat)\n",
    "conf_mat.div(conf_mat.sum(0), axis=1).round(2)*100"
   ]
  },
  {
   "cell_type": "markdown",
   "metadata": {},
   "source": [
    "Recordemos que para este proyecto $1$ indica que la edad de la mujer es de 23 años o más, mientras que $0$ indica que la edad es mejor a 23 años. Así, la matriz de confusion indica:\n",
    "\n",
    " - El modelo clasifica correctamente en el $76\\%$ de los casos e incorrectamente en el $24\\%$\n",
    " - Del total de mujeres cuya edad fue clasificada como mayor o igual a 23 años, en el $81\\%$ de los casos, fueron en efecto mayores a 23 años (**Verdaderos Positivos**). Mientras que en el restante $19\\%$, la predicción fue incorrecta, es decir, las mujeres tenían menos de 23 años pero fueron clasificadas como mayores o iguales a 23 (**Falsos Positivos**)\n",
    " - Del total de casos clasificados con edades menores a 23 años, el $68\\%$ tenían, en efecto, menos de 23 años.  (**Verdaderos Negativos**) y el $32\\%$ fueron mal clasificados pues eran mayores a 23 años (**Falsos Negativos**)"
   ]
  },
  {
   "cell_type": "markdown",
   "metadata": {},
   "source": [
    "# 8. Consideraciones éticas\n",
    "\n",
    "Es necesario considerar los siguientes aspectos del modelo que pudieran tener implicaciones éticas más allá del proyecto inicial, se presentan por etapa\n",
    "\n",
    "  + **Planteamiento del objetivo**\n",
    "    Se desconoce la finalidad del objeto de predecir si una mujer que se practica una ILE tiene 23 años o más, es decir, el uso que se le dará los analisis y modelos obtenidos. Por ejemplo, si se usa para promover políticas públicas (otorgamiento o restricción de beneficios) o para ofrecer alguna alternativa por parte del sector privado, la métrica de medición podría ser enfocada a optimizar recuros u optimizar la detección de mujeres de 23 años o más. Así mismo, las implicaciones éticas podrían variar según sea el uso que se da a los resultados.\n",
    "  + **EDA** \n",
    "    Los datos obtenidos provienen de los registros de mujeres que se practican ILE en la CDMX, donde la opción de ejercerla es libre (por cualquier motivo que considere la persona). Existen estados donde la ILE es legal pero sólo bajo ciertos motivos (como violación, que ponga en peligro de la mujer, etc). Se observo que hay mujeres de otros entidades que vienen a la CDMX para practicarse el ILE, eso podría sesgar la motivación o tipo de personas que se practican el ILE en la CDMX.\n",
    "  + **Imputación de datos:**\n",
    "    La corrección y/o imputación de valores sugiere que la forma de recabar los datos podría no ser del todo confiable o fidedigna, pues variables como el parentesco con el acompañante, podrían sugerir que las pacientes o recolectores de datos no proporcionan o reportan todos los datos correctamente (existen muchas mujers menores de edad que no reportan parentescon del acompañante, desconociendo si no hubo acompañante o deliverdamente no se reporto).\n",
    "    Para efectos de poder correr los modelos, para algunas de las variables se sustituyo los NAs con la mediana, sin embargo parala variable nile (no. de ILE) había 20% de faltantes, lo cual podría sesgar la interpretabilidad o efecto en el modelo, si se toma esta variable\n",
    "  + **Random Forest para selección de variables**\n",
    "     Para variables categoricas como ocupacion, anticonceptivo, nivle_edu y edocivil_descripcion se probó reducir el numero de categorías que tenían para logara incrementar el valor predictivo, no obstante implica pérdida de información que aporta la variable original. Para el entendimiento del modelo o interpretación, la reducción de información podría derrivar en generalidades imprecisas.\n",
    "  + **Selección de variables:**\n",
    "     Para lograr meter variables categóricas a los modelos, se crearon variables dummy, y posterioremente se decidió qué variables se quedarían en el modelo. El seleccionar sólo algunas dummies de una variable categorica (sin abarcar todos los valores que toma), tiene un efecto similar al planteado en feature engineering (con la reducción de categorias).\n",
    "  +  **Hiperparámetros del modelo (Magic Loop)**\n",
    "      La selección implicó el probar muchos parámetros para los diferentes modelos probados, escogiendo el que minimizó el score F1, sin indicar las implicaciones y/o diferencias entre uno u otro."
   ]
  },
  {
   "cell_type": "code",
   "execution_count": null,
   "metadata": {},
   "outputs": [],
   "source": []
  }
 ],
 "metadata": {
  "kernelspec": {
   "display_name": "envPy3",
   "language": "python",
   "name": "envpy3"
  },
  "language_info": {
   "codemirror_mode": {
    "name": "ipython",
    "version": 3
   },
   "file_extension": ".py",
   "mimetype": "text/x-python",
   "name": "python",
   "nbconvert_exporter": "python",
   "pygments_lexer": "ipython3",
   "version": "3.7.4"
  }
 },
 "nbformat": 4,
 "nbformat_minor": 2
}
