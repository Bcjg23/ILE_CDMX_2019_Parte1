{
 "cells": [
  {
   "cell_type": "markdown",
   "metadata": {},
   "source": []
  },
  {
   "cell_type": "code",
   "execution_count": 12,
   "metadata": {},
   "outputs": [
    {
     "data": {
      "text/html": [
       "<script>jQuery(function() {if (jQuery(\"body.notebook_app\").length == 0) { jQuery(\".input_area\").toggle(); jQuery(\".prompt\").toggle();}});</script>"
      ]
     },
     "metadata": {},
     "output_type": "display_data"
    },
    {
     "data": {
      "text/html": [
       "<button onclick=\"jQuery('.input_area').toggle(); jQuery('.prompt').toggle();\">Toggle code</button>"
      ]
     },
     "metadata": {},
     "output_type": "display_data"
    }
   ],
   "source": [
    "#Hide code cells when saving as HTML\n",
    "from IPython.display import display\n",
    "from IPython.display import HTML\n",
    "import IPython.core.display as di # Example: di.display_html('<h3>%s:</h3>' % str, raw=True)\n",
    "\n",
    "# This line will hide code by default when the notebook is exported as HTML\n",
    "di.display_html('<script>jQuery(function() {if (jQuery(\"body.notebook_app\").length == 0) { jQuery(\".input_area\").toggle(); jQuery(\".prompt\").toggle();}});</script>', raw=True)\n",
    "\n",
    "# This line will add a button to toggle visibility of code blocks, for use with the HTML export version\n",
    "di.display_html('''<button onclick=\"jQuery('.input_area').toggle(); jQuery('.prompt').toggle();\">Toggle code</button>''', raw=True)"
   ]
  },
  {
   "cell_type": "markdown",
   "metadata": {},
   "source": [
    "## Introducción\n",
    "\n",
    "Este proyecto esta enfocado a predecir si una mujer es o no mayor a 23 años dado un conjunto de características presentado en una base de datos. \n",
    "\n",
    "La base de datos corresponde a las [*Interrupciones Legales de Embarazo*](https://datos.cdmx.gob.mx/explore/dataset/interrupcion-legal-del-embarazo) en la Ciudad de México. Esta base se obtuvo de la página de datos abiertos de la ciudad. \n",
    "\n",
    "Para contextualizar este proyecto, se consideran los siguientes supuestos:\n",
    "\n",
    "  - El resultado de este proyecto será utilizado por una institución gubernamental, por lo tanto, los recursos son finitos, en particular se tiene un presupuesto limitado.\n",
    "  - Se planea lanzar una campaña de servicios médicos para las mujeres que abortan. Se desea ofrecer servicios a bajo costo o gratuitos de salpingoclasia (esterilización permanente) y se quiere estimular a esta mujeres a participar en otros programas de bienestar social a los que pueden ser elegibles (por ejemplo, de madres solteras).\n",
    "  \n"
   ]
  },
  {
   "cell_type": "markdown",
   "metadata": {},
   "source": [
    "## Interrupción legal del embarazo CDMX\n",
    "\n",
    "Es importante mencionar que la Interrupción del Embarazo solo era legal en la Ciudad de México, hasta hace unas pocas semanas, sin importar la causa o motivo. Pues si bien en otros estados también esta permitido, es sólo bajo ciertas circunstancias, principalmente relacionadas con delitos sexuales.\n",
    "\n",
    "La interrupción del embarazo es legal en la Ciudad de México hasta las 12 semanas de gestación. Actualmente existen 13 clínicas en la ciudad que otorgan este servicio. La página de información de la CDMX menciona que los servicios se **proporcionan de manera legal, segura, confidencial y gratuita**. \n",
    "\n",
    "Los requisitos oficiales para obtener el servicio son los siguientes.\n",
    "\n",
    "Requisitos para residentes de la Ciudad de México\n",
    "+ Identificación oficial, en original y copia.\n",
    "+ Comprobante de domicilio (último recibo de predial, luz, agua, gas, televisión de paga, teléfono fijo o servicio de internet), en original y copia.\n",
    "+ Hoja de Gratuidad. Una trabajadora social te ayudará en caso de no tenerla.\n",
    "+ Un acompañante con identificación oficial en original y copia.\n",
    "+ De manera opcional en los hospitales pueden solicitarte: CURP y/o acta de nacimiento.\n",
    "\n",
    "Requisitos para menores de edad:\n",
    "+ Acta de Nacimiento en original y copia.\n",
    "+ CURP (Puede imprimirse desde este sitio web)\n",
    "+ Credencial o documento con fotografía reciente (credencial de la escuela o certificado de estudios) en original y copia.\n",
    "+ Comprobante de domicilio en original y copia (último recibo de predial, luz, agua, gas, televisión de paga, teléfono fijo o servicio de internet).\n",
    "+ Acudir acompañada por madre, padre, tutor o representante legal con identificación oficial y comprobante de domicilio, ambos en original y copia.\n",
    "\n",
    "Requisitos para residentes de otros estados:\n",
    "+ Original y copia de identificación oficial.\n",
    "+ Comprobante de domicilio en original y copia.\n",
    "+ Un acompañante con identificación oficial en original y copia.\n"
   ]
  },
  {
   "cell_type": "code",
   "execution_count": 13,
   "metadata": {},
   "outputs": [],
   "source": [
    "#import python packages\n",
    "import pandas as pd\n",
    "import numpy as np\n",
    "import pandas_profiling\n",
    "from datetime import datetime, date, time, timedelta\n",
    "# import calendar\n",
    "from sklearn.preprocessing import StandardScaler, OneHotEncoder, KBinsDiscretizer\n",
    "from sklearn.impute import SimpleImputer\n",
    "from sklearn.compose import ColumnTransformer\n",
    "from sklearn.preprocessing import MinMaxScaler, OneHotEncoder, QuantileTransformer\n",
    "from sklearn.impute import SimpleImputer\n",
    "import matplotlib.pyplot as plt\n",
    "import seaborn as sns\n",
    "import matplotlib.dates as dates\n",
    "from matplotlib.gridspec import GridSpec"
   ]
  },
  {
   "cell_type": "code",
   "execution_count": 14,
   "metadata": {},
   "outputs": [],
   "source": [
    "#import functions created in .py\n",
    "import load_data \n",
    "import clean_data\n",
    "import transform_data\n",
    "import eda\n",
    "import geda\n",
    "import feature_selection"
   ]
  },
  {
   "cell_type": "markdown",
   "metadata": {},
   "source": [
    "## Análisis EDA"
   ]
  },
  {
   "cell_type": "code",
   "execution_count": 15,
   "metadata": {},
   "outputs": [],
   "source": [
    "##################################################  CARGAR BASE  #############################################################\n",
    "#Update data file name\n",
    "datafile_name = 'interrupcion-legal-del-embarazo.csv'\n",
    "#Update path to data file\n",
    "\n",
    "path_to_datafile = '~/Documents/Brenda/Proyecto/Data'\n",
    "#path_to_datafile = '/home/bj/Documents/IntroDataScience/Proyecto/Data'\n",
    "#path_to_datafile ='C:/Users/GZARAZUA/Desktop/MCD/MINERIA DE DATOS/Reporte aborto'\n",
    "\n",
    "#we load the database\n",
    "interrupcion_legal = load_data.load_df(datafile_name, path_to_datafile, ';')"
   ]
  },
  {
   "cell_type": "markdown",
   "metadata": {},
   "source": [
    "La base original contiene información de interrupciones legales de embarazo (ILE) de 2016 a 2019.\n",
    "\n",
    "Observamos que las variables son en su mayoría numericas (conteos) y algunas categóricas, que se relacionan en lo general con lo siguiente:\n",
    "+ Fecha de registro: ano, mes, fingreso\n",
    "+ Sitio donde se atiende al paciente y datos relacionados a la intervención: cve_hospital, autoref, desc_derechohab, consejería, h_ingreso, desc_servicio, p_consent, procile, s_complica, panticoncept\n",
    "+ Características propias de la persona: edocivil, edad, nivel_edu, ocupacion, religion, parentezco, entidad, alc_o_municipio, menarca, fsexual, fmenstrua, sememb, nhijos, gesta, naborto, npartos, ncesarea, nile, anticonceptivo, c_num, motiles, p_semgest, p_diasgesta.\n"
   ]
  },
  {
   "cell_type": "code",
   "execution_count": 16,
   "metadata": {},
   "outputs": [
    {
     "ename": "NameError",
     "evalue": "name 'clean_interrupcion_legal' is not defined",
     "output_type": "error",
     "traceback": [
      "\u001b[0;31m---------------------------------------------------------------------------\u001b[0m",
      "\u001b[0;31mNameError\u001b[0m                                 Traceback (most recent call last)",
      "\u001b[0;32m<ipython-input-16-05c214291613>\u001b[0m in \u001b[0;36m<module>\u001b[0;34m\u001b[0m\n\u001b[1;32m      3\u001b[0m \u001b[0;34m\u001b[0m\u001b[0m\n\u001b[1;32m      4\u001b[0m \u001b[0;31m#Creamos la variable objetivo\u001b[0m\u001b[0;34m\u001b[0m\u001b[0;34m\u001b[0m\u001b[0;34m\u001b[0m\u001b[0m\n\u001b[0;32m----> 5\u001b[0;31m \u001b[0mclean_interrupcion_legal\u001b[0m\u001b[0;34m[\u001b[0m\u001b[0;34m'23_o_mayor'\u001b[0m\u001b[0;34m]\u001b[0m \u001b[0;34m=\u001b[0m \u001b[0mnp\u001b[0m\u001b[0;34m.\u001b[0m\u001b[0mwhere\u001b[0m\u001b[0;34m(\u001b[0m\u001b[0mclean_interrupcion_legal\u001b[0m\u001b[0;34m[\u001b[0m\u001b[0;34m'edad'\u001b[0m\u001b[0;34m]\u001b[0m \u001b[0;34m>=\u001b[0m \u001b[0;36m23\u001b[0m\u001b[0;34m,\u001b[0m \u001b[0;36m1\u001b[0m\u001b[0;34m,\u001b[0m \u001b[0;36m0\u001b[0m\u001b[0;34m)\u001b[0m\u001b[0;34m\u001b[0m\u001b[0;34m\u001b[0m\u001b[0m\n\u001b[0m\u001b[1;32m      6\u001b[0m \u001b[0mclean_interrupcion_legal\u001b[0m\u001b[0;34m.\u001b[0m\u001b[0mhead\u001b[0m\u001b[0;34m(\u001b[0m\u001b[0;34m)\u001b[0m\u001b[0;34m\u001b[0m\u001b[0;34m\u001b[0m\u001b[0m\n",
      "\u001b[0;31mNameError\u001b[0m: name 'clean_interrupcion_legal' is not defined"
     ]
    }
   ],
   "source": [
    "#mayor_23...\n",
    "\n",
    "\n",
    "#Creamos la variable objetivo\n",
    "clean_interrupcion_legal['23_o_mayor'] = np.where(clean_interrupcion_legal['edad'] >= 23, 1, 0)\n",
    "clean_interrupcion_legal.head()"
   ]
  },
  {
   "cell_type": "markdown",
   "metadata": {},
   "source": [
    "Después de la limpieza de la base de datos observamos cómo queda el registro de variables, que incluye las originales y otras tantes que usamos en forma auxiliar para analizar y/o separar los datos"
   ]
  },
  {
   "cell_type": "code",
   "execution_count": null,
   "metadata": {},
   "outputs": [],
   "source": [
    "#variables that will contain the type of existing variables\n",
    "[numeric_variables, categorical_variables, dates_variables, string_variables] = eda.info_type_of_vars(clean_interrupcion_legal)\n",
    "#the classification of the variables is displayed\n",
    "eda.print_info_type_of_vars(numeric_variables, categorical_variables, dates_variables, string_variables)"
   ]
  },
  {
   "cell_type": "markdown",
   "metadata": {},
   "source": [
    "A continuación se muestra el dataprofiling de nuestras variables resultantes para una fácil identificación de estadísticos. \n",
    "Tambien se recomienda consultar el pandas profiling que este código genera"
   ]
  },
  {
   "cell_type": "code",
   "execution_count": null,
   "metadata": {},
   "outputs": [],
   "source": [
    "eda.descriptive_stats_for_numeric_vars(clean_interrupcion_legal, numeric_variables)"
   ]
  },
  {
   "cell_type": "markdown",
   "metadata": {},
   "source": [
    "La siguiente table indica las estadísticas de la variable categórica creada 'ocupacion2', que básicamente reduce el numero de categorías de la variable original 'ocupacion' rn, al tener este un no. considerable de opciones."
   ]
  },
  {
   "cell_type": "code",
   "execution_count": null,
   "metadata": {},
   "outputs": [],
   "source": [
    "#eda.descriptive_stats_for_categorical_vars(clean_interrupcion_legal, string_variables)\n",
    "eda.descriptive_stats_for_categorical_vars(clean_interrupcion_legal, ['ocupacion2'])"
   ]
  },
  {
   "cell_type": "markdown",
   "metadata": {},
   "source": [
    "Los estadísticos de 'edad_quintiles' dejan claro que la mayoría de las mujeres son jóvenes de entre 20 y 29 años"
   ]
  },
  {
   "cell_type": "code",
   "execution_count": null,
   "metadata": {},
   "outputs": [],
   "source": [
    "eda.descriptive_stats_for_categorical_vars(clean_interrupcion_legal, categorical_variables)"
   ]
  },
  {
   "cell_type": "markdown",
   "metadata": {},
   "source": [
    "Finalmente, se revisa la base como quedó después de todos los procedimientos descritos"
   ]
  },
  {
   "cell_type": "code",
   "execution_count": null,
   "metadata": {},
   "outputs": [],
   "source": [
    "clean_interrupcion_legal.head()"
   ]
  },
  {
   "cell_type": "markdown",
   "metadata": {},
   "source": [
    "# GEDA"
   ]
  },
  {
   "cell_type": "code",
   "execution_count": null,
   "metadata": {},
   "outputs": [],
   "source": [
    "sns.set_style(\"darkgrid\")\n",
    "plt.figure(figsize = (20,10))\n",
    "#plt.style.use('ggplot')\n",
    "plot1 = sns.boxplot(y='edad', x='nile', data=clean_interrupcion_legal, palette='dark')\n",
    "sns.stripplot(y='edad', x='nile', data=clean_interrupcion_legal, color=\"gray\", jitter=0.2, size=2.5)\n",
    "# Linea horizontal\n",
    "plot1.axes.axhline(y = 23, ls='--', color='red')\n",
    "plot1.axes.text(-0.8, 22.7, \"23 años\", color = 'red', fontsize=12)\n",
    "\n",
    "plt.title('Distribución de la edad por número de ILE', fontsize='16')\n",
    "plt.xlabel('Número de Interrupciones Legales (ILE)', fontsize='14')\n",
    "plt.ylabel('Edad de la mujer', fontsize='14')\n",
    "\n",
    "plt.show()"
   ]
  },
  {
   "cell_type": "markdown",
   "metadata": {},
   "source": [
    "En la grafica anterior observamos como se comporta la edad de las mujeres que tuvieron 0,1,2,3,... interrupciones legales de embarazo, observando que apartir de la 3era interrupción las edades de mujeres tienden a concentrarse sólo entre los 20 y 40 años"
   ]
  },
  {
   "cell_type": "code",
   "execution_count": null,
   "metadata": {},
   "outputs": [],
   "source": [
    "tabla_pivote = pd.pivot_table(clean_interrupcion_legal, index='edo_civil', columns='23_o_mayor', aggfunc='count')\n",
    "tabla_pivote = tabla_pivote.reindex(['casada', 'union_libre', 'soltera', 'divorciada', 'separada','no_especificado'])\n",
    "tabla_pivote['edad']"
   ]
  },
  {
   "cell_type": "markdown",
   "metadata": {},
   "source": [
    "La tabla anterior señala que las mujeres más jóvenes que realizan un aborto legal son solteras, lo cual podría asumirse desde un inicio dado el ciclo natural de crecimiento de las personas y una tendencia social a extender la edad de contraer matrimonio"
   ]
  },
  {
   "cell_type": "code",
   "execution_count": null,
   "metadata": {},
   "outputs": [],
   "source": [
    "ile_menor_23 = tabla_pivote['edad'][0]/sum(tabla_pivote['edad'][0])*100\n",
    "ile_mayor_23 = tabla_pivote['edad'][1]/sum(tabla_pivote['edad'][1])*100"
   ]
  },
  {
   "cell_type": "code",
   "execution_count": null,
   "metadata": {},
   "outputs": [],
   "source": [
    "df_aux = pd.DataFrame(tabla_pivote['edad'][0]/sum(tabla_pivote['edad'][0])*100)\n",
    "df_aux = pd.concat([df_aux, tabla_pivote['edad'][1]/sum(tabla_pivote['edad'][1])*100])\n",
    "df_aux['23_0_mas'] = [0,0,0,0,0,0,1,1,1,1,1,1]\n",
    "df_aux['edo_civil1'] = ['casada', 'union_libre', 'soltera', 'divorciada', 'separada','no_especificado', 'casada', 'union_libre', 'soltera', 'divorciada', 'separada','no_especificado']\n",
    "df_aux.columns = ['Porcentaje', '23_o_mayor', 'edo_civil1']\n",
    "df_aux.index = df_aux.reset_index(level=0, drop=True)\n",
    "df_aux.index = [0,1,2,3,4,5,6,7,8,9,10,11]\n",
    "#\n",
    "g = sns.catplot(y=\"Porcentaje\", x='edo_civil1', hue='23_o_mayor', kind=\"bar\", data=df_aux, palette=['gray', 'blue'], height=6, aspect=1.3, legend_out=False)\n",
    "g.ax.set_yticks(np.arange(0,110,10), minor=True)\n",
    "\n",
    "leg = g.axes.flat[0].get_legend()\n",
    "leg.set_title('')\n",
    "new_labels=['Menores a 23 años', '23 años o más']\n",
    "for t, l in zip(leg.texts, new_labels): t.set_text(l)\n",
    "    \n",
    "plt.ylabel(\"\")\n",
    "plt.xlabel(\"\")\n",
    "plt.title(\"Porcentaje de mujeres que recibieron una ILE por Estado Civil\")\n",
    "plt.show()"
   ]
  },
  {
   "cell_type": "markdown",
   "metadata": {},
   "source": [
    "Corroboranado la información de la tabla anterior, el saber de una mujer que se practica una interrución legal de embarazo, que es soltera, sugiere que es joven"
   ]
  },
  {
   "cell_type": "code",
   "execution_count": null,
   "metadata": {},
   "outputs": [],
   "source": [
    "# df_aux = clean_interrupcion_legal[clean_interrupcion_legal.edo_civil.isin(['casada', 'soltera','union_libre'])][['edo_civil', 'nile', 'nhijos', '23_o_mayor']]\n",
    "# pd.pivot_table(df_aux, index=['edo_civil', 'nhijos'], columns='nile', aggfunc='count')\n",
    "# #sns.lmplot( y=\"nile\", x=\"nhijos\", data=df_aux, fit_reg=False, hue='edo_civil', legend=True)"
   ]
  },
  {
   "cell_type": "code",
   "execution_count": null,
   "metadata": {},
   "outputs": [],
   "source": [
    "# df_aux = clean_interrupcion_legal.groupby(['entidad', '23_o_mayor']).count()['mes'].unstack(level=1).reset_index().sort_values(by=1, ascending=False)\n",
    "# df_aux[0]= df_aux[0]/sum(df_aux[0])*100\n",
    "# df_aux[1]= df_aux[1]/sum(df_aux[1])*100\n",
    "# df_aux.columns = ['entidad', 'menor', 'mayor']\n",
    "\n",
    "# df_aux2 = df_aux[0:2]\n",
    "# df_aux3 = df_aux[2:]\n",
    "# df_aux2 = df_aux2.append(pd.Series(['otras_entidades',sum(df_aux3['menor']), sum(df_aux3['mayor'])], index=df_aux2.columns), ignore_index=True)\n",
    "\n",
    "# #labels = df_aux2['entidad']\n",
    "# labels = ['Ciudad \\n de México', 'Estado \\n de Mexico', 'Otras \\n entidades']\n",
    "# x = np.arange(len(labels))  # the label locations\n",
    "# width = 0.35  # the width of the bars\n",
    "\n",
    "\n",
    "\n",
    "# fig = plt.figure(figsize=(20, 5))\n",
    "# gs = GridSpec(nrows=1, ncols=5)\n",
    "\n",
    "# ax1 = fig.add_subplot(gs[0,1])\n",
    "# ax1.bar(x - width/2, df_aux2['menor'], width, color='gray', label='Menores de 23 años')\n",
    "# ax1.bar(x + width/2, df_aux2['mayor'], width, color='blue', label='23 años o más')\n",
    "# ax1.set_xticks(x)\n",
    "# ax1.set_xticklabels(labels)\n",
    "# ax1.set_yticks(np.arange(0,110,10), minor=True)\n",
    "# ax1.set_title(\"Top de Entidad de Residencia\")\n",
    "# ax1.legend(loc='upper right')\n",
    "\n",
    "# ax2 = fig.add_subplot(gs[0,2:])\n",
    "# my_size=np.where(df_aux3['mayor']>df_aux3['menor'], 75, 30)\n",
    "# my_range = df_aux3['entidad']\n",
    "# ax2.vlines(x = my_range, ymin=df_aux3['menor'], ymax=df_aux3['mayor'], color='black', alpha=0.4)\n",
    "# ax2.axvline(x = 'queretaro', color='red', ls='--', linewidth=0.5)\n",
    "# ax2.scatter(my_range, df_aux3['menor'], color='gray', s=my_size, alpha=1, label='Menores de 23 años')\n",
    "# ax2.scatter(my_range, df_aux3['mayor'], color='blue', s=my_size, alpha=1 , label='23 años o más')\n",
    "# ax2.set_xticks(np.arange(len(my_range)))\n",
    "# ax2.set_xticklabels(my_range, rotation=90, horizontalalignment='right')\n",
    "# ax2.set_title(\"Desglose de Otras entidades federativas\")\n",
    "# ax2.legend(loc='upper right')\n",
    "\n",
    "# fig.suptitle(\"Porcentaje de ILE segun la entidad donde residen\")\n",
    "# #format_axes(fig)\n",
    "\n",
    "# plt.show()"
   ]
  },
  {
   "cell_type": "code",
   "execution_count": null,
   "metadata": {},
   "outputs": [],
   "source": [
    "pd.options.display.float_format = '{:,}'.format\n",
    "pivot_aux = pd.pivot_table(clean_interrupcion_legal, index='escolaridad', columns='edo_civil', aggfunc='count')['mes']\n",
    "pivot_aux = pivot_aux.reindex(['posgrado', 'superior', 'media_superior', 'secundaria', 'primaria','otra', 'ninguno', 'no_especificado' ])\n",
    "pivot_aux = pivot_aux[['casada', 'union_libre', 'soltera', 'divorciada', 'separada','no_especificado']]\n",
    "pivot_aux\n",
    "#sns.heatmap(pivot_aux)\n",
    "#pd.pivot_table(clean_interrupcion_legal, index='escolaridad', columns=['23_o_mayor', 'edo_civil'], aggfunc='count')['mes']"
   ]
  },
  {
   "cell_type": "markdown",
   "metadata": {},
   "source": [
    "De esta muestra que la mayoría de las mujeres comparte la característica de estar soltera y tener como grado máximo de estudios educación media superior o secundaria.\n",
    "La mayoría de las mujeres que viven en unión libre comparte el mismo nivel máximo de estudios indicado anterioremente"
   ]
  },
  {
   "cell_type": "code",
   "execution_count": null,
   "metadata": {
    "scrolled": true
   },
   "outputs": [],
   "source": [
    "pivot_aux = pd.pivot_table(clean_interrupcion_legal, index='escolaridad', columns='ocupacion2', aggfunc='count')['mes']\n",
    "pivot_aux = pivot_aux.reindex(['posgrado', 'superior', 'media_superior', 'secundaria', 'primaria','otra', 'ninguno', 'no_especificado' ])\n",
    "pivot_aux "
   ]
  },
  {
   "cell_type": "markdown",
   "metadata": {},
   "source": [
    "Esta otra tabla muestra que la mayoría de mujeres tiene el nivel máximo de estudios de secundaria o media superior, y que existe un grupo considerable de mujers que depende monetariamente de terceros, pues el grupo de estudiantes y amas de casa es significativo. La mayoría de mujeres se caracteriza por ser empleadas."
   ]
  },
  {
   "cell_type": "code",
   "execution_count": null,
   "metadata": {},
   "outputs": [],
   "source": [
    "pivot_aux = pd.pivot_table(clean_interrupcion_legal, index='edo_civil', columns='ocupacion2', aggfunc='count')['mes']\n",
    "pivot_aux = pivot_aux.reindex(['casada', 'union_libre', 'soltera', 'divorciada', 'separada','no_especificado'])\n",
    "pivot_aux "
   ]
  },
  {
   "cell_type": "markdown",
   "metadata": {},
   "source": [
    "La mayoría de las mujeres son empleadas/estudiantes y solteras, aunque existen otros grupos significativos como las mujeres que se dicen vivir en unión libre, que en su mayoría son amas de casa o empleadas."
   ]
  },
  {
   "cell_type": "code",
   "execution_count": null,
   "metadata": {},
   "outputs": [],
   "source": [
    "geda.plot_by_pairs_grid(clean_interrupcion_legal, ['edad','naborto'])"
   ]
  },
  {
   "cell_type": "code",
   "execution_count": null,
   "metadata": {},
   "outputs": [],
   "source": [
    "#geda.plot_by_pairs_grid(clean_interrupcion_legal, ['menarca','edad'])"
   ]
  },
  {
   "cell_type": "markdown",
   "metadata": {},
   "source": [
    "Aunque la mayoría de las mujeres no indicó haber tenido alguna interrupción legal de embarazo previamente, se observa que hay mujeres que de entre 20 y 40 años que dicen haber tenido de entre 1 a 4, lo cual podría ser un indicativo de mujeres que se han practicado más de una vez un aborto, pues los datos corresponden a 3 diferentes años (2016-2019)"
   ]
  },
  {
   "cell_type": "code",
   "execution_count": null,
   "metadata": {},
   "outputs": [],
   "source": [
    "geda.barplot_by_category(clean_interrupcion_legal, 'edad', 'ocupacion2')"
   ]
  },
  {
   "cell_type": "markdown",
   "metadata": {},
   "source": [
    "Una suposición natural indica que que la mayoría de mujeres estudiantes son jóvenes, lo cual se corrobora con la gráfica anterior. El resto de ocupaciones indican una poblacion que supera los 23 años, lo que podría ser un indicativo en la importancia de esta variables en la predicción de la edad"
   ]
  },
  {
   "cell_type": "code",
   "execution_count": null,
   "metadata": {},
   "outputs": [],
   "source": [
    "geda.barplot_by_category(clean_interrupcion_legal, 'edad', 'edocivil_descripcion')"
   ]
  },
  {
   "cell_type": "markdown",
   "metadata": {},
   "source": [
    "Pareciera existir una relacion entre el edo civil y la edad de las mujeres que practican interrupción del embarazo, pues el promedio de edad es diferente para cada categoría. No obstante lo anterior, se tendría que analizar más a fondo la distribución de los datos, pues la medida de promedio es muy sensible a outlayers"
   ]
  },
  {
   "cell_type": "code",
   "execution_count": null,
   "metadata": {},
   "outputs": [],
   "source": [
    "####################################  PANDAS PROFILING  #########################################\n",
    "# #Imprime a pantalla\n",
    "# clean_interrupcion_legal.profile_report(correlations={\"cramers\": False})\n",
    "\n",
    "# #Imprime a archivo\n",
    "\n",
    "# profile = clean_interrupcion_legal.profile_report(title='Interrupcion legal del embarazo', plot={'histogram': {'bins': 8}}, correlations={\"cramers\": False})\n",
    "# profile.to_file(output_file=\"Interrupcion legal del embarazo_output.html\")"
   ]
  },
  {
   "cell_type": "code",
   "execution_count": null,
   "metadata": {},
   "outputs": [],
   "source": [
    "# #guardamos la base de datos resultante a un .csv\n",
    "# clean_interrupcion_legal.to_csv('clean_interrupcion_legal.csv', sep=';')"
   ]
  },
  {
   "cell_type": "markdown",
   "metadata": {},
   "source": [
    "# Insights más importantes de este conjunto de datos"
   ]
  },
  {
   "cell_type": "markdown",
   "metadata": {},
   "source": [
    "+ La mayoría de mujeres poseen una educación máxima de media superior o secundaria, con estudios terminados o incompletos. La educación se podría considerar como un factor relevante en la toma de decisiones de las personas, que abarca la planeación a futuro\n",
    "\n",
    "+ Las mayoría de mujeres indicó ser solteras y de estas la mayoría son jóvenes. El hecho de tener algún compromiso para con una pareja o hijos pareciera otorgar mayor libertad para tomar una decisión sobre la interrupción del embarazo.\n",
    "\n",
    "+ Considerando que la base contiene la información de diversos años, y que existen mujeres que se han practicado más de un aborto, podría indicar que hay mujeres que hacen uso de la interrupción legal de embarazo varias veces. Esto podría sesgar las predicciones dado que podríamos tener el caso de registrar a una misma persona varias veces\n",
    "\n",
    "+ Las semanas/dias de gestación guardan una aparente fuerte correlación lineal positiva con la edad. Esto podría ser un indicativo del tiempo que se dan las personas para una toma de decisión, donde las personas más jovenes tienen a tomar la decisión en forma más temprana\n",
    "\n",
    "+ Dado que el objetivo planteado es predecir la edad de las mujeres dadas sus características, se han descartado algunas variables como las relacionadas a eventos posteriores a la intervención, cuya consideración podría incidir en hacer data leaking. Existen otras variables que aportan mucha información al prevalecer una categoría o valor como altamente representativo, como puede ser la religión. Existen variables que a primera vista podrían sugerir un alto nivel predictivo, como son motiles (motivos por los cuales se realiza la intervención) o parentesco (persona que acompaña a la paciente), sin embargo se detecta que las respuestas a estos concepto no son de mucha ayuda. En motile la mayoría indica tal cual interrupción voluntaria, lo cual no aporta nada). Aunque se sabe que para cualquier intervención se pide se vaya acompañada, la mayoría de las personas no reporta información sobre el parentesco del acompañante"
   ]
  },
  {
   "cell_type": "markdown",
   "metadata": {},
   "source": [
    "## Separacion de datos de *entrenamiento* y *prueba*\n",
    "\n",
    "La partición de la base en el conjunto de entrenamiento y de prueba, se realizo usando temporal cross validation, pues los eventos considerados (ILE) están intrínsicamente relacionados con el tiempo. Además, las características de la observaciones en la base, y de la población objetivo -mujeres de 23 años o más- en particular, son cambiantes a lo largo del tiempo.\n",
    "\n",
    "La muestra de entrenamiento se selecciono desde la fecha más antigua del primer registro (2016-01-01) hasta la fecha límite elegida, en este caso 2018-07-01. Así, la muestra de prueba fueron las observaciones a partir de 2018-08-01 y hasta la última fecha disponible en la base (2019-07-01).\n",
    "\n",
    "Esta fecha se eligio para tener al menos un año en la muestra de prueba, pensando que puede haber estacionalidad a lo largo de un año. Además, con esta fecha se obtiene que el 74% de los datos se encuentran en la muestra de entrenamiento y el restante en la muestra de prueba."
   ]
  },
  {
   "cell_type": "code",
   "execution_count": null,
   "metadata": {},
   "outputs": [],
   "source": [
    "#Lo deje hasta julio de 2018 poara tener un anio de prueba\n",
    "mask = (base_interrupcion_legal['ano_mes_ile']<='2018-07-01')\n",
    "entrenamiento = base_interrupcion_legal[mask]\n",
    "prueba = base_interrupcion_legal[~mask]\n",
    "print('No. observaciones en entre: ', entrenamiento.shape[0], ' que representa el ', round(entrenamiento.shape[0]/base_interrupcion_legal.shape[0]*100,0),'%')\n",
    "print('No. observaciones en prueb: ', prueba.shape[0], ' que representa el ', round(prueba.shape[0]/base_interrupcion_legal.shape[0]*100,0),'%')"
   ]
  },
  {
   "cell_type": "code",
   "execution_count": null,
   "metadata": {},
   "outputs": [],
   "source": [
    "y_entrenamiento = entrenamiento['23_o_mayor']\n",
    "x_entrenamiento = pd.DataFrame(entrenamiento.drop(['23_o_mayor', 'ano_mes_ile'], axis = 1))\n",
    "\n",
    "y_prueba = prueba['23_o_mayor']\n",
    "x_prueba = pd.DataFrame(prueba.drop(['23_o_mayor', 'ano_mes_ile'], axis = 1))"
   ]
  },
  {
   "cell_type": "markdown",
   "metadata": {},
   "source": [
    "# Imputacion de variables"
   ]
  },
  {
   "cell_type": "markdown",
   "metadata": {},
   "source": [
    "Se realizaron imputaciones a las siguientes variables de la muestra de entrenamiento:\n",
    "\n",
    "| Variable | % missings | Valor de imputación | Justificacion |\n",
    "|----------|------------|---------------------|---------------|\n",
    "| edo_civil | 0.32 | moda (soltera) | 55% de los datos corresponden a esa categoría |\n",
    "|escolaridad | 2.54 | moda (media_superior) | 45% de los datos corresponden a esa categoría |\n",
    "|menarca| 5.05 | moda (12 años) | %27 de los datos corresponden a esa categoría |\n",
    "|anticonceptivo|12.50|constante (ninguno)| 53% de los datos corresponden a esa categoría|\n",
    "|ocupacion| 15.91 | constante (no_especificado)| Nueva categoria para aislar el efecto de los valores faltantes|\n",
    "|nhijos| 5.32 | mediana | 40% de los datos corresponden a esa categoría y la media y la mediana de los datos es muy similar|\n",
    "|naborto| 6.47 | mediana |80% de los datos corresponden a esa categoría y la media y la mediana de los datos es muy similar|\n",
    "|nparto|6.16| mediana | 56% de los datos corresponden a esa categoría y la media y la mediana de los datos es muy similar|\n",
    "|ncesarrea|6.64| mediana | 70% de los datos corresponden a esa categoría y la media y la mediana de los datos es muy similar|\n",
    "|nile|26.4| mediana | 63% de los datos corresponden a esa categoría y la media y la mediana de los datos es muy similar|\n",
    "\n",
    ">> Porcentajes respecto a la muestra de entrenamiento"
   ]
  },
  {
   "cell_type": "code",
   "execution_count": null,
   "metadata": {},
   "outputs": [],
   "source": [
    "from sklearn.compose import ColumnTransformer\n",
    "from sklearn.preprocessing import MinMaxScaler, OneHotEncoder, QuantileTransformer\n",
    "from sklearn.impute import SimpleImputer"
   ]
  },
  {
   "cell_type": "code",
   "execution_count": null,
   "metadata": {},
   "outputs": [],
   "source": [
    "#Imputacion para base de entrenamiento\n",
    "\n",
    "df = x_entrenamiento\n",
    "\n",
    "var = 'edo_civil'\n",
    "aux = df[[var]]\n",
    "aux_imputer_edo_civil = SimpleImputer(missing_values=np.nan, strategy=\"most_frequent\")\n",
    "aux_imputer_edo_civil.fit(aux)\n",
    "aux_imputed_edo_civil = aux_imputer_edo_civil.transform(aux)\n",
    "df[var] = aux_imputed_edo_civil\n",
    "\n",
    "var = 'escolaridad'\n",
    "aux = df[[var]]\n",
    "aux_imputer_escolaridad = SimpleImputer(missing_values=np.nan, strategy=\"most_frequent\")\n",
    "aux_imputer_escolaridad.fit(aux)\n",
    "aux_imputed_escolaridad = aux_imputer_escolaridad.transform(aux)\n",
    "df[var] = aux_imputed_escolaridad\n",
    "\n",
    "var = 'menarca'\n",
    "aux = df[[var]]\n",
    "aux_imputer_menarca = SimpleImputer(missing_values=np.nan, strategy=\"most_frequent\")\n",
    "aux_imputer_menarca.fit(aux)\n",
    "aux_imputed_menarca = aux_imputer_menarca.transform(aux)\n",
    "df[var] = aux_imputed_menarca\n",
    "\n",
    "#var = 'p_diasgesta'\n",
    "#aux = df[[var]]\n",
    "#aux_imputer_p_diasgesta = SimpleImputer(missing_values=np.nan, strategy=\"most_frequent\")\n",
    "#aux_imputer_p_diasgesta.fit(aux)\n",
    "#aux_imputed_p_diasgesta = aux_imputer_p_diasgesta.transform(aux)\n",
    "#df[var] = aux_imputed_p_diasgesta\n",
    "\n",
    "\n",
    "var = 'anticonceptivo2'\n",
    "aux = df[[var]]\n",
    "aux_imputer_anticonceptivo2 = SimpleImputer(missing_values=np.nan, strategy=\"constant\", fill_value=\"ninguno\")\n",
    "aux_imputer_anticonceptivo2.fit(aux)\n",
    "aux_imputed_anticonceptivo2 = aux_imputer_anticonceptivo2.transform(aux)\n",
    "df[var]=aux_imputed_anticonceptivo2\n",
    "\n",
    "\n",
    "var = 'ocupacion2'\n",
    "aux = df[[var]]\n",
    "aux_imputer_ocupacion2 = SimpleImputer(missing_values=np.nan, strategy=\"constant\", fill_value=\"no_especificado\")\n",
    "aux_imputer_ocupacion2.fit(aux)\n",
    "aux_imputed_ocupacion2 = aux_imputer_ocupacion2.transform(aux)\n",
    "df[var]=aux_imputed_ocupacion2\n",
    "\n",
    "# var = 'p_semgest'\n",
    "# aux = df[[var]]\n",
    "# aux_imputer_p_semgest = SimpleImputer(missing_values=np.nan, strategy=\"median\")\n",
    "# aux_imputer_p_semgest.fit(aux)\n",
    "# aux_imputed_p_semgest = aux_imputer_p_semgest.transform(aux)\n",
    "# df[var]=aux_imputed_p_semgest\n",
    "\n",
    "var = 'nhijos'\n",
    "aux = df[[var]]\n",
    "aux_imputer_nhijos = SimpleImputer(missing_values=np.nan, strategy=\"median\")\n",
    "aux_imputer_nhijos.fit(aux)\n",
    "aux_imputed_nhijos = aux_imputer_nhijos.transform(aux)\n",
    "df[var]=aux_imputed_nhijos\n",
    "\n",
    "var = 'naborto'\n",
    "aux = df[[var]]\n",
    "aux_imputer_naborto = SimpleImputer(missing_values=np.nan, strategy=\"median\")\n",
    "aux_imputer_naborto.fit(aux)\n",
    "aux_imputed_naborto = aux_imputer_naborto.transform(aux)\n",
    "df[var]=aux_imputed_naborto\n",
    "\n",
    "var = 'npartos'\n",
    "aux = df[[var]]\n",
    "aux_imputer_nparto = SimpleImputer(missing_values=np.nan, strategy=\"median\")\n",
    "aux_imputer_nparto.fit(aux)\n",
    "aux_imputed_nparto = aux_imputer_nparto.transform(aux)\n",
    "df[var]=aux_imputed_nparto\n",
    "\n",
    "var = 'ncesarea'\n",
    "aux = df[[var]]\n",
    "aux_imputer_ncesarea = SimpleImputer(missing_values=np.nan, strategy=\"median\")\n",
    "aux_imputer_ncesarea.fit(aux)\n",
    "aux_imputed_ncesarea = aux_imputer_ncesarea.transform(aux)\n",
    "df[var]=aux_imputed_ncesarea\n",
    "\n",
    "var = 'nile'\n",
    "aux = df[[var]]\n",
    "aux_imputer_nile = SimpleImputer(missing_values=np.nan, strategy=\"median\")\n",
    "aux_imputer_nile.fit(aux)\n",
    "aux_imputed_nile = aux_imputer_nile.transform(aux)\n",
    "df[var]=aux_imputed_nile\n",
    "\n"
   ]
  },
  {
   "cell_type": "markdown",
   "metadata": {},
   "source": [
    "# Feature Engineering\n",
    "\n",
    "## Random forest para parametros\n"
   ]
  },
  {
   "cell_type": "markdown",
   "metadata": {},
   "source": [
    "Algunas variables categoricas se recategorizaron para agrupar etiquetas similares y disminuir el número de categorias.\n",
    "\n",
    "Originalmente se tienen 36 variables, y aunque no es un gran número de variables en términos de los modelos de aprendizaje de máquina, es importante hacer la selección de variables para eliminar aquellas ue son espurias y que pudieran estar incorporando ruido al modelo y por lo tanto, disminuir su desempeño.\n",
    "\n",
    "En base al EDA se incluyeron 10 variables (edo_civil, escolaridad, ocupacion2, menarca, anticonceptivo2, nhijos, naborto, npartos, ncesarea, nile) para correr un modelo de Random Forest para determinar el nivel de importancia de las variables."
   ]
  },
  {
   "cell_type": "code",
   "execution_count": null,
   "metadata": {},
   "outputs": [],
   "source": [
    "from sklearn.ensemble import RandomForestClassifier\n",
    "from sklearn.datasets import make_classification"
   ]
  },
  {
   "cell_type": "code",
   "execution_count": null,
   "metadata": {
    "scrolled": true
   },
   "outputs": [],
   "source": [
    "N_ARBOLES = 10000  #The number of trees in the forest\n",
    "SEMILLA = 104 # the seed used by the random number generator\n",
    "\n",
    "#Create a Gaussian Classifier\n",
    "clf = RandomForestClassifier(n_estimators = N_ARBOLES, random_state = SEMILLA, n_jobs=-1)\n",
    "\n",
    "#Train the model using the training sets y_pred=clf.predict(X_test)\n",
    "clf.fit(x_entrenamiento, y_entrenamiento)\n",
    "\n",
    "RandomForestClassifier(bootstrap=True, class_weight=None, criterion='gini',\n",
    "            max_depth=None, max_features='auto', max_leaf_nodes=None,\n",
    "            min_impurity_decrease=0.0, min_impurity_split=None,\n",
    "            min_samples_leaf=1, min_samples_split=2,\n",
    "            min_weight_fraction_leaf=0.0, n_estimators=100, n_jobs=1,\n",
    "            oob_score=False, random_state=None, verbose=0,\n",
    "            warm_start=False)\n",
    "\n",
    "feature_imp = pd.Series(clf.feature_importances_, index=x_entrenamiento.columns).sort_values(ascending=False)\n",
    "feature_imp"
   ]
  },
  {
   "cell_type": "code",
   "execution_count": null,
   "metadata": {},
   "outputs": [],
   "source": [
    "sns.set_style(\"darkgrid\")\n",
    "pp = sns.cubehelix_palette(30, start=.1, rot=-.75, reverse=True)\n",
    "fig = plt.figure(figsize=(8, 12))\n",
    "#Visualizing Important Features\n",
    "g = sns.barplot(x=feature_imp, y=feature_imp.index, palette=pp)\n",
    "# Add labels to your graph\n",
    "#g.axes.axhline(y = 'naborto', ls='--', color='red')\n",
    "plt.xlabel('Score')\n",
    "plt.ylabel('Variables')\n",
    "plt.title(\"Vizualizacion del score de importancia de las variables\")\n",
    "plt.show()\n"
   ]
  },
  {
   "cell_type": "markdown",
   "metadata": {},
   "source": [
    "El Random Forest se corrio con 100, 1,000 y 10,000 árboles y se determino un *threshold* para la importancia, de $0.046$. Se observo que,todos los casos tuvieron el mismo orden de relevancia para las variables.\n",
    "\n",
    "Nos quedamos con las siguientes variables:\n",
    "- menarca\n",
    "- nhijos\n",
    "- ocupacion2_estudiante\n",
    "- npartos\n",
    "- escolaridad_superior\n",
    "- ocupacion2_empleada\n",
    "- ncesarea\n",
    "- naborto"
   ]
  },
  {
   "cell_type": "code",
   "execution_count": null,
   "metadata": {},
   "outputs": [],
   "source": [
    "#Para entrenamiento\n",
    "x_entrenamiento = x_entrenamiento[['menarca', 'nhijos', 'ocupacion2_estudiante', 'npartos', 'escolaridad_superior', 'ocupacion2_empleada', 'ncesarea', 'naborto']]\n"
   ]
  },
  {
   "cell_type": "markdown",
   "metadata": {},
   "source": [
    "## Hiperparámetros (Magic Loop)\n"
   ]
  },
  {
   "cell_type": "markdown",
   "metadata": {},
   "source": [
    "El ajuste de los parámetros se hizo para tres modelos distintos: Decision Tree, Random Forest y XGBoost. \n",
    "\n",
    "Cada modelo se corrio considerando los siguientes rangos para los parámetros:}\n",
    "\n",
    "\n",
    "|Modelo| Parametros|# de modelos| Tiempo de ejecución (mins)| Mejor score |\n",
    "|------|-----------|------------|---------------------------|-------------|\n",
    "|Decision Tree| max_depth: [1,5,10,20,50,100], |  1,440|  7 | 0.82 |\n",
    "|             | min_samples_split: [2,5,10], | | | |\n",
    "|             | criterion:['gini', 'entropy'], | | | |\n",
    "|             | splitter:['random', 'best'], | | | |\n",
    "|             | presort:[False, True] | | | |\n",
    "|Random Forest| n_estimators: [1,10,100,1000], | 1,440| 189 | 0.83|\n",
    "|             | max_depth: [1,5,10,20,50,100], | | | |\n",
    "|             | max_features: ['sqrt','log2'], | | | |\n",
    "|             | min_samples_split: [2,5,10] | | | |\n",
    "|XGBoost| max_depth: [1,5,10,20,50,100], | 540 | 120| 0.83 |\n",
    "|       | *min_child_weight*: [2,5,10], | | | |\n",
    "|       | *learning_rate* : [0.01,0.050.1]   | | | |         \n",
    "|       | objective:['squaredlogerror', 'binary:logistic', 'binary:hinge'] | | | |\n",
    "\n",
    "\n",
    "Para cada conjunto de parámetros, el modelo uso *temporal cross validation* con *10 folds*.\n",
    "\n",
    "Probando 3 modelos diferentes con distinto hiperparametros, donde seleccionamos el mejor modelo con base en el score F1, que relaciona las metricas *precision* y *recall*.\n",
    "\n",
    "Lo anterior considerando que el uso de estos resultados podrá usarse para promover alguna politica pública de salud, donde los recursos son finitos e interesa seleccionar con precison a las personas objetivo.\n",
    "\n",
    "\n",
    "| Modelo | Color   | Precio |\n",
    "| ------ |---------| ------:|\n",
    "| Globe  | Negro   | 99€    |\n",
    "| Scala  | Azul    | 199€   |\n",
    "| Palais | Granate | 399€   |\n"
   ]
  },
  {
   "cell_type": "code",
   "execution_count": null,
   "metadata": {},
   "outputs": [],
   "source": [
    "from sklearn.model_selection import TimeSeriesSplit #Para split temporal\n",
    "from sklearn.model_selection import GridSearchCV\n",
    "from sklearn.model_selection import train_test_split\n",
    "from sklearn.ensemble import RandomForestClassifier\n",
    "from sklearn import metrics\n",
    "from sklearn.metrics import accuracy_score, recall_score, precision_score, f1_score, confusion_matrix, auc, roc_curve\n",
    "from sklearn import tree\n",
    "import xgboost as xgb\n"
   ]
  },
  {
   "cell_type": "markdown",
   "metadata": {},
   "source": [
    "### 1. Random Forest"
   ]
  },
  {
   "cell_type": "code",
   "execution_count": null,
   "metadata": {},
   "outputs": [],
   "source": [
    "#ocuparemos un RF\n",
    "classifier = RandomForestClassifier()\n",
    "\n",
    "##separando en train, test\n",
    "#X_train, X_test, y_train, y_test = train_test_split(X, y)\n",
    "\n",
    "#definicion de los hiperparametros que queremos probar\n",
    "hyper_param_grid1 = {'n_estimators': [1,10,100,1000], \n",
    "                    'max_depth': [1,5,10,20,50,100], \n",
    "                    'max_features': ['sqrt','log2'],\n",
    "                    'min_samples_split': [2,5,10]}\n",
    "\n",
    "#ocupemos grid search!, el verbose permite hacer debugging ... el 3 nos permitirá ver los mensajes de 3 trials de los 10 \n",
    "grid_search = GridSearchCV(classifier, \n",
    "                           hyper_param_grid1, \n",
    "                           scoring = 'f1',\n",
    "                           cv = cv, \n",
    "                           n_jobs = -1,\n",
    "                           verbose = 3)\n",
    "grid_search.fit(x_entrenamiento, y_entrenamiento)\n",
    "\n",
    "#de los valores posibles que pusimos en el grid, cuáles fueron los mejores\n",
    "grid_search.best_params_\n",
    "\n",
    "#mejor score asociado a los modelos generados con los diferentes hiperparametros\n",
    "#corresponde al promedio de los scores generados con los cv\n",
    "grid_search.best_score_"
   ]
  },
  {
   "cell_type": "code",
   "execution_count": null,
   "metadata": {},
   "outputs": [],
   "source": [
    "cv_results_forest = pd.DataFrame(grid_search.cv_results_)\n",
    "cv_results_forest.head()\n",
    "#Save to file\n",
    "cv_results_forest.to_csv(index=False)"
   ]
  },
  {
   "cell_type": "markdown",
   "metadata": {},
   "source": [
    "### 2. Arbol"
   ]
  },
  {
   "cell_type": "code",
   "execution_count": null,
   "metadata": {},
   "outputs": [],
   "source": [
    "#ocuparemos un RF\n",
    "classifier = tree.DecisionTreeClassifier()\n",
    "\n",
    "##separando en train, test\n",
    "#X_train, X_test, y_train, y_test = train_test_split(X, y)\n",
    "\n",
    "#definicion de los hiperparametros que queremos probar\n",
    "hyper_param_grid2 = {'max_depth': [1,5,10,20,50,100], \n",
    "                     'min_samples_split': [2,5,10],\n",
    "                    'criterion':['gini', 'entropy'],\n",
    "                    'splitter':['random', 'best'],\n",
    "                    'presort':[False, True]}\n",
    "\n",
    "#ocupemos grid search!, el verbose permite hacer debugging ... el 3 nos permitirá ver los mensajes de 3 trials de los 10 \n",
    "grid_search = GridSearchCV(classifier, \n",
    "                           hyper_param_grid2, \n",
    "                           scoring = 'f1',\n",
    "                           cv = cv, \n",
    "                           n_jobs = -1,\n",
    "                           verbose = 3)\n",
    "grid_search.fit(x_entrenamiento, y_entrenamiento)\n",
    "\n",
    "#de los valores posibles que pusimos en el grid, cuáles fueron los mejores\n",
    "grid_search.best_params_\n",
    "\n",
    "#mejor score asociado a los modelos generados con los diferentes hiperparametros\n",
    "#corresponde al promedio de los scores generados con los cv\n",
    "grid_search.best_score_"
   ]
  },
  {
   "cell_type": "code",
   "execution_count": null,
   "metadata": {},
   "outputs": [],
   "source": [
    "cv_results_arbol = pd.DataFrame(grid_search.cv_results_)\n",
    "cv_results_arbol.head()\n",
    "#\n",
    "cv_results_arbol.to_csv(index=False)"
   ]
  },
  {
   "cell_type": "markdown",
   "metadata": {},
   "source": [
    "### 3. XGBoost"
   ]
  },
  {
   "cell_type": "code",
   "execution_count": null,
   "metadata": {},
   "outputs": [],
   "source": [
    "#ocuparemos un RF\n",
    "classifier = xgb.XGBClassifier()\n",
    "\n",
    "##separando en train, test\n",
    "#X_train, X_test, y_train, y_test = train_test_split(X, y)\n",
    "\n",
    "#definicion de los hiperparametros que queremos probar\n",
    "hyper_param_grid = {'max_depth': [1,5,10,20,50,100],\n",
    "                    'min_samples_split': [2,5,10],\n",
    "                    'booster':['gbtree', 'gblinear', 'dart']\n",
    "                    }\n",
    "\n",
    "#ocupemos grid search!, el verbose permite hacer debugging ... el 3 nos permitirá ver los mensajes de 3 trials de los 10 \n",
    "grid_search = GridSearchCV(classifier, \n",
    "                           hyper_param_grid, \n",
    "                           scoring = 'f1',\n",
    "                           cv = cv, \n",
    "                           n_jobs = -1,\n",
    "                           verbose = 3)\n",
    "grid_search.fit(x_entrenamiento, y_entrenamiento)\n",
    "\n",
    "#de los valores posibles que pusimos en el grid, cuáles fueron los mejores\n",
    "grid_search.best_params_\n",
    "\n",
    "#mejor score asociado a los modelos generados con los diferentes hiperparametros\n",
    "#corresponde al promedio de los scores generados con los cv\n",
    "grid_search.best_score_"
   ]
  },
  {
   "cell_type": "code",
   "execution_count": null,
   "metadata": {},
   "outputs": [],
   "source": [
    "cv_results_XGBoost = pd.DataFrame(grid_search.cv_results_)\n",
    "cv_results_XGBoost.head()\n",
    "#\n",
    "cv_results_XGBoost.to_csv(index=False)"
   ]
  },
  {
   "cell_type": "markdown",
   "metadata": {},
   "source": [
    "Juntamos los resultados de todos los modelos"
   ]
  },
  {
   "cell_type": "code",
   "execution_count": null,
   "metadata": {},
   "outputs": [],
   "source": [
    "results_all = pd.concat([cv_results_forest, cv_results_arbol, cv_results_XGBoost], axis=0, sort='False').sort_values(by='rank_test_score', ascending=True).head()\n",
    "\n",
    "## mejor configuración de hiperparámetros de acuerdo a nuestra métrica\n",
    "results_all.iloc[0,:].params"
   ]
  },
  {
   "cell_type": "code",
   "execution_count": null,
   "metadata": {},
   "outputs": [],
   "source": [
    "#cv_results_forest\n",
    "#cv_results_arbol\n",
    "cv_results_XGBoost"
   ]
  },
  {
   "cell_type": "markdown",
   "metadata": {},
   "source": [
    "El mejor modelo obtenido fue un XGBoost, y el mejor conjunto de hiperparametros se muestra a continuación:\n",
    "\n",
    "Con base en el mean-best-score se tomó el mejor modelo, ya que incluye el promedio de las 10 corridas de cross-validation\n",
    "\n",
    "De los modelos que se corrieron, se obtuvieron los siguientes tiempos:\n",
    "- Random Forest (1,440 modelos): 75.6 min\n",
    "- Arbol (1,440 modelos): 1.6 min\n",
    "- XGBoost (540 modelos): 62.2 min\n"
   ]
  },
  {
   "cell_type": "markdown",
   "metadata": {},
   "source": [
    "## Seleccion de modelo  y aplicacion en muestra de prueba"
   ]
  },
  {
   "cell_type": "code",
   "execution_count": null,
   "metadata": {},
   "outputs": [],
   "source": [
    "#Imputacion para base de prueba\n",
    "\n",
    "df = x_prueba\n",
    "\n",
    "var = 'edo_civil'\n",
    "aux = df[[var]]\n",
    "aux_imputed_edo_civil = aux_imputer_edo_civil.transform(aux)\n",
    "df[var] = aux_imputed_edo_civil\n",
    "\n",
    "var = 'escolaridad'\n",
    "aux = df[[var]]\n",
    "aux_imputed_escolaridad = aux_imputer_escolaridad.transform(aux)\n",
    "df[var] = aux_imputed_escolaridad\n",
    "\n",
    "var = 'menarca'\n",
    "aux = df[[var]]\n",
    "aux_imputed_menarca = aux_imputer_menarca.transform(aux)\n",
    "df[var] = aux_imputed_menarca\n",
    "\n",
    "var = 'anticonceptivo2'\n",
    "aux = df[[var]]\n",
    "aux_imputed_anticonceptivo2 = aux_imputer_anticonceptivo2.transform(aux)\n",
    "df[var]=aux_imputed_anticonceptivo2\n",
    "\n",
    "\n",
    "var = 'ocupacion2'\n",
    "aux = df[[var]]\n",
    "aux_imputed_ocupacion2 = aux_imputer_ocupacion2.transform(aux)\n",
    "df[var]=aux_imputed_ocupacion2\n",
    "\n",
    "var = 'nhijos'\n",
    "aux = df[[var]]\n",
    "aux_imputed_nhijos = aux_imputer_nhijos.transform(aux)\n",
    "df[var]=aux_imputed_nhijos\n",
    "\n",
    "var = 'naborto'\n",
    "aux = df[[var]]\n",
    "aux_imputed_naborto = aux_imputer_naborto.transform(aux)\n",
    "df[var]=aux_imputed_naborto\n",
    "\n",
    "var = 'npartos'\n",
    "aux = df[[var]]\n",
    "aux_imputed_nparto = aux_imputer_nparto.transform(aux)\n",
    "df[var]=aux_imputed_nparto\n",
    "\n",
    "var = 'ncesarea'\n",
    "aux = df[[var]]\n",
    "aux_imputed_ncesarea = aux_imputer_ncesarea.transform(aux)\n",
    "df[var]=aux_imputed_ncesarea\n",
    "\n",
    "var = 'nile'\n",
    "aux = df[[var]]\n",
    "aux_imputed_nile = aux_imputer_nile.transform(aux)\n",
    "df[var]=aux_imputed_nile\n",
    "\n"
   ]
  },
  {
   "cell_type": "code",
   "execution_count": null,
   "metadata": {},
   "outputs": [],
   "source": [
    "### One -hot encoder Para Prueba\n",
    "dummies = feature_selection.transforma_cat_dummies(x_prueba, string_variables, False)\n",
    "x_prueba = pd.concat([x_prueba, dummies], axis = 1)\n",
    "x_prueba = x_prueba.drop(string_variables, axis = 1)\n"
   ]
  },
  {
   "cell_type": "code",
   "execution_count": null,
   "metadata": {},
   "outputs": [],
   "source": [
    "# Seleccion de variables Para entrenamiento\n",
    "x_prueba = x_prueba[['menarca', 'nhijos', 'ocupacion2_estudiante', 'npartos', 'escolaridad_superior', 'ocupacion2_empleada', 'ncesarea', 'naborto']]"
   ]
  },
  {
   "cell_type": "code",
   "execution_count": null,
   "metadata": {},
   "outputs": [],
   "source": [
    "x_prueba"
   ]
  },
  {
   "cell_type": "markdown",
   "metadata": {},
   "source": [
    "tomado de [aqui](https://jessesw.com/XG-Boost/)"
   ]
  },
  {
   "cell_type": "code",
   "execution_count": null,
   "metadata": {},
   "outputs": [],
   "source": [
    "# Definicion de los parametros del modelo\n",
    "# specify parameters via map\n",
    "param_finales = {'max_depth':1, 'min_samples_split': 10, 'booster':'gbtree'}\n",
    "\n",
    "num_round = 500\n",
    "\n",
    "xgdmat = xgb.DMatrix(x_entrenamiento, y_entrenamiento)\n",
    "\n",
    "best_model = xgb.train(param_finales, xgdmat, num_round)\n"
   ]
  },
  {
   "cell_type": "code",
   "execution_count": null,
   "metadata": {},
   "outputs": [],
   "source": [
    "#we can then plot our feature importances using a built-in method. This is similar to the feature importances found in sklearn.\n",
    "xgb.plot_importance(best_model)"
   ]
  },
  {
   "cell_type": "markdown",
   "metadata": {},
   "source": [
    "Prediccion para la muestra de prueba"
   ]
  },
  {
   "cell_type": "code",
   "execution_count": null,
   "metadata": {},
   "outputs": [],
   "source": [
    "testdmat = xgb.DMatrix(x_prueba)\n",
    "y_predict = best_model.predict(testdmat)\n",
    "y_predict"
   ]
  },
  {
   "cell_type": "code",
   "execution_count": null,
   "metadata": {},
   "outputs": [],
   "source": [
    "# Convertimos a etiquetas 0/1\n",
    "THRESHOLD = 0.5\n",
    "\n",
    "y_predict[y_predict > THRESHOLD] = 1\n",
    "y_predict[y_predict <= THRESHOLD] = 0\n",
    "y_predict\n"
   ]
  },
  {
   "cell_type": "markdown",
   "metadata": {},
   "source": [
    "Acuracy en la muestra de prueba"
   ]
  },
  {
   "cell_type": "code",
   "execution_count": null,
   "metadata": {},
   "outputs": [],
   "source": [
    "accuracy_score(y_predict, y_prueba)"
   ]
  },
  {
   "cell_type": "code",
   "execution_count": null,
   "metadata": {},
   "outputs": [],
   "source": [
    "recall_score(y_prueba, y_predict, average='weighted')"
   ]
  },
  {
   "cell_type": "code",
   "execution_count": null,
   "metadata": {},
   "outputs": [],
   "source": [
    "f1_score(y_prueba, y_predict, average='weighted')"
   ]
  },
  {
   "cell_type": "code",
   "execution_count": null,
   "metadata": {},
   "outputs": [],
   "source": [
    "# ROC curve\n",
    "fpr, tpr, thresholds = metrics.roc_curve(y_prueba, y_predict)\n",
    "roc_auc = auc(fpr, tpr)"
   ]
  },
  {
   "cell_type": "code",
   "execution_count": null,
   "metadata": {},
   "outputs": [],
   "source": [
    "plt.figure()\n",
    "lw = 2\n",
    "plt.plot(fpr, tpr, color='darkorange', lw=lw, label='ROC curve (area = %0.2f)' % roc_auc)\n",
    "plt.plot([0, 1], [0, 1], color='navy', lw=lw, linestyle='--')\n",
    "plt.xlim([-0.02, 1.0])\n",
    "plt.ylim([0.0, 1.02])\n",
    "plt.xlabel('False Positive Rate')\n",
    "plt.ylabel('True Positive Rate')\n",
    "plt.title('ROC curve')\n",
    "plt.legend(loc=\"lower right\")\n",
    "plt.show()"
   ]
  },
  {
   "cell_type": "code",
   "execution_count": null,
   "metadata": {
    "scrolled": true
   },
   "outputs": [],
   "source": [
    "#Confusion matrix\n",
    "\n",
    "print(confusion_matrix(y_prueba, y_predict))"
   ]
  },
  {
   "cell_type": "markdown",
   "metadata": {},
   "source": [
    "La matriz de confusion indica:\n",
    "verdaderos positivos (mujeres clasificadas como >=23 siendo que es >=23)=20%\n",
    "falsos verdaderos (mujeres clasificadas como <23 siendo que son >=23)=15%\n",
    "falso negativos (mujeres clasificadas como >=23 siendo que son <23)=8%\n",
    "verdadero negativos (mujeres clasificadas como <23 siendo que son <23)=57%\n",
    "Lo anterior indica que solo 23% de los datos fueron mal clasificados\n"
   ]
  },
  {
   "cell_type": "markdown",
   "metadata": {},
   "source": [
    "Dado que consideramos que el uso de este modelo podria ser usado para promover politicas publicas de salud, asumimos que los recursos son finitos y por tanto se busca optimizar los mismos reduciendo al maximo los falsos positivos"
   ]
  },
  {
   "cell_type": "markdown",
   "metadata": {},
   "source": [
    "Precison at k:\n",
    "Podemos considerar que se tienen recursos finitos, por ejemplo un presupuesto limite, por lo tanto solo se puede contratar k medicos para realizar los procedimientos o k trabajadoras sociales en educacion sexual. En el caso de se trabaje con voluntarios que no estan sujetos a una restriccion presupuestaria, podriamos tomar a k como los consultorios fisicos en los que se puede trabajar.\n"
   ]
  },
  {
   "cell_type": "markdown",
   "metadata": {},
   "source": [
    "# Implicaciones éticas:\n",
    "\n",
    "+ Planteamiento del objetivo: \n",
    "Se desconoce la finalidad del objeto de predecir si una mujer que se practica una ILE tiene 23 años o más, es decir, el uso que se le dará los analisis y modelos obtenidos. Por ejemplo, si se usa para promover políticas públicas (otorgamiento o restricción de beneficios) o para ofrecer alguna alternativa por parte del sector privado, la métrica de medición podría ser enfocada a optimizar recuros u optimizar la detección de mujeres de 23 años o más. Así mismo, las implicaciones éticas podrían variar según sea el uso que se da a los resultados.\n",
    "\n",
    "+ EDA: \n",
    "Los datos obtenidos provienen de los registros de mujeres que se practican ILE en la CDMX, donde la opción de ejercerla es libre (por cualquier motivo que considere la persona). Existen estados donde la ILE es legal pero sólo bajo ciertos motivos (como violación, que ponga en peligro de la mujer, etc). Se observo que hay mujeres de otros entidades que vienen a la CDMX para practicarse el ILE, eso podría sesgar la motivación o tipo de personas que se practican el ILE en la CDMX.\n",
    "\n",
    "+ Imputación de datos:\n",
    "La corrección y/o imputación de valores sugiere que la forma de recabar los datos podría no ser del todo confiable o fidedigna, pues variables como el parentesco con el acompañante, podrían sugerir que las pacientes o recolectores de datos no proporcionan o reportan todos los datos correctamente (existen muchas mujers menores de edad que no reportan parentescon del acompañante, desconociendo si no hubo acompañante o deliverdamente no se reporto).\n",
    "\n",
    "Para efectos de poder correr los modelos, para algunas de las variables se sustituyo los NAs con la mediana, sin embargo parala variable nile (no. de ILE) había 20% de faltantes, lo cual podría sesgar la interpretabilidad o efecto en el modelo, si se toma esta variable\n",
    "\n",
    "+ Feature engineering:\n",
    "Para variables categoricas como ocupacion, anticonceptivo, nivle_edu y edocivil_descripcion se probó reducir el numero de categorías que tenían para logara incrementar el valor predictivo, no obstante implica pérdida de información que aporta la variable original. Para el entendimiento del modelo o interpretación, la reducción de información podría derrivar en generalidades imprecisas.\n",
    "\n",
    "+ Selección de variables:\n",
    "Para lograr meter variables categóricas a los modelos, se crearon variables dummy, y posterioremente se decidió qué variables se quedarían en el modelo. El seleccionar sólo algunas dummies de una variable categorica (sin abarcar todos los valores que toma), tiene un efecto similar al planteado en feature engineering (con la reducción de categorias).\n",
    "\n",
    "+ Selección de modelo:\n",
    "La selección implicó el probar muchos parámetros para los diferentes modelos probados, escogiendo el que minimizó el score F1, sin indicar las implicaciones y/o diferencias entre uno u otro.\n"
   ]
  }
 ],
 "metadata": {
  "kernelspec": {
   "display_name": "envPy3",
   "language": "python",
   "name": "envpy3"
  },
  "language_info": {
   "codemirror_mode": {
    "name": "ipython",
    "version": 3
   },
   "file_extension": ".py",
   "mimetype": "text/x-python",
   "name": "python",
   "nbconvert_exporter": "python",
   "pygments_lexer": "ipython3",
   "version": "3.7.4"
  }
 },
 "nbformat": 4,
 "nbformat_minor": 2
}
